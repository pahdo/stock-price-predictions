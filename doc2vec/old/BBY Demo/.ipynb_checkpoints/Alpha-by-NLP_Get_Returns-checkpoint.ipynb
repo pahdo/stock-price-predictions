{
 "cells": [
  {
   "cell_type": "markdown",
   "metadata": {},
   "source": [
    "# Alpha by NLP: Defining functions to get stock returns\n",
    "In this notebook, we will define two functions:  \n",
    "`getRet(symbol, date, horizon, subtract)` and `getTotalRet(symbol,date,horizon, subtract)`.\n",
    "\n",
    "Suppose we have a .csv file with schema  \n",
    "`   0      1      2      3      4      5      6      7      8      9      10`  \n",
    "`Date   Symbol Return                                    Alpha`\n",
    "\n",
    "`getRet()` returns a list of daily returns `[.05, .03, -.01, -.01, .02]`\n",
    "\n",
    "`getTotalRet()` returns the total return, i.e. the return you get if you put in $1 at the start date and sold at the end date `(start date + horizon - 1)` \n",
    "* Note that `(1+avg(rets)) ** n != getTotalRet(n)` where n is the number of days"
   ]
  },
  {
   "cell_type": "code",
   "execution_count": 1,
   "metadata": {
    "collapsed": false
   },
   "outputs": [],
   "source": [
    "import csv\n",
    "from datetime import datetime, timedelta\n",
    "import numpy as np\n",
    "\n",
    "def getRets(symbol, date, horizon=1, subtract=False):\n",
    "    \"\"\"\n",
    "    Assumed csv schema is:\n",
    "    0      1      2      3      4      5      6      7      8      9      10\n",
    "    Date   Symbol Return                                    Alpha\n",
    "    \"\"\"\n",
    "    some_dates = []\n",
    "    the_date1 = datetime.strptime(date, '%m/%d/%y')\n",
    "    for i in range(horizon):\n",
    "        the_date2 = the_date1 + timedelta(days=i)\n",
    "        some_dates.append(the_date2)\n",
    "        \n",
    "    with open('BBY_alphabeta_calculation.csv', 'rt') as csvfile:\n",
    "        reader = csv.reader(csvfile, delimiter=',')\n",
    "        matching_rows = []\n",
    "        for row in reader:\n",
    "            if(row[0] == 'Date'):\n",
    "                pass\n",
    "            else:\n",
    "                date1 = datetime.strptime(row[0], '%m/%d/%y')\n",
    "                if (date1 in some_dates):\n",
    "                    if (subtract):\n",
    "                        matching_rows.append([row[0], row[1], row[8]])\n",
    "                    else:\n",
    "                        matching_rows.append([row[0], row[1], row[2]])\n",
    "    return matching_rows\n",
    "\n",
    "def getTotalRet(symbol, date, horizon=1, subtract=False):\n",
    "    rets = getRets(symbol, date, horizon, subtract)\n",
    "    the_rets = []\n",
    "    for ret in rets:\n",
    "        the_rets.append(ret[2])\n",
    "    return np.product([1 + float(the_ret) for the_ret in the_rets])"
   ]
  },
  {
   "cell_type": "markdown",
   "metadata": {},
   "source": [
    "## Getting a list of returns for a stock\n",
    "Let's try to get a list of returns starting at 8/19/99 for BBY (Blackberry) and ending 5 days later -  \n",
    "Observe that weekends and holidays are omitted."
   ]
  },
  {
   "cell_type": "code",
   "execution_count": 2,
   "metadata": {
    "collapsed": false
   },
   "outputs": [
    {
     "data": {
      "text/plain": [
       "[['8/19/99', 'BBY', '-0.013537906'],\n",
       " ['8/20/99', 'BBY', '0.063129003'],\n",
       " ['8/23/99', 'BBY', '-0.027538726']]"
      ]
     },
     "execution_count": 2,
     "metadata": {},
     "output_type": "execute_result"
    }
   ],
   "source": [
    "getRets('BBY', '8/19/99', 5)"
   ]
  },
  {
   "cell_type": "markdown",
   "metadata": {},
   "source": [
    "## Getting total return for a stock\n",
    "Now, let's see our total return for BBY if we opened a position on 8/19/99 and closed it 5 days later."
   ]
  },
  {
   "cell_type": "code",
   "execution_count": 3,
   "metadata": {
    "collapsed": false
   },
   "outputs": [
    {
     "data": {
      "text/plain": [
       "1.0198555964047493"
      ]
     },
     "execution_count": 3,
     "metadata": {},
     "output_type": "execute_result"
    }
   ],
   "source": [
    "getTotalRet('BBY', '8/19/99', 5)"
   ]
  },
  {
   "cell_type": "markdown",
   "metadata": {},
   "source": [
    "## Getting a list of alphas for a stock\n",
    "Note that `return_stock = beta * return_S&P500 + alpha`  \n",
    "For more information, refer to <a href=\"http://www.investopedia.com/terms/c/capm.asp\">Capital Asset Pricing Model (CAPM)</a> theory.  \n",
    "Let's get a list of alphas for BBY."
   ]
  },
  {
   "cell_type": "code",
   "execution_count": 4,
   "metadata": {
    "collapsed": false
   },
   "outputs": [
    {
     "data": {
      "text/plain": [
       "[['8/19/99', 'BBY', '-0.004226358'],\n",
       " ['8/20/99', 'BBY', '0.051594626'],\n",
       " ['8/23/99', 'BBY', '-0.04931454']]"
      ]
     },
     "execution_count": 4,
     "metadata": {},
     "output_type": "execute_result"
    }
   ],
   "source": [
    "getRets('BBY', '8/19/99', 5, subtract=True)"
   ]
  },
  {
   "cell_type": "markdown",
   "metadata": {},
   "source": [
    "## Getting total cumulative alpha for stock\n",
    "Note: this value is not necessarily meaningful.\n",
    "Just for fun, let's get \"total cumulative alpha\" for a stock -"
   ]
  },
  {
   "cell_type": "code",
   "execution_count": 5,
   "metadata": {
    "collapsed": false
   },
   "outputs": [
    {
     "data": {
      "text/plain": [
       "0.99551047969105044"
      ]
     },
     "execution_count": 5,
     "metadata": {},
     "output_type": "execute_result"
    }
   ],
   "source": [
    "getTotalRet('BBY', '8/19/99', 5, subtract=True)"
   ]
  },
  {
   "cell_type": "code",
   "execution_count": null,
   "metadata": {
    "collapsed": true
   },
   "outputs": [],
   "source": []
  }
 ],
 "metadata": {
  "kernelspec": {
   "display_name": "Python 3",
   "language": "python",
   "name": "python3"
  },
  "language_info": {
   "codemirror_mode": {
    "name": "ipython",
    "version": 3
   },
   "file_extension": ".py",
   "mimetype": "text/x-python",
   "name": "python",
   "nbconvert_exporter": "python",
   "pygments_lexer": "ipython3",
   "version": "3.6.0"
  }
 },
 "nbformat": 4,
 "nbformat_minor": 2
}
