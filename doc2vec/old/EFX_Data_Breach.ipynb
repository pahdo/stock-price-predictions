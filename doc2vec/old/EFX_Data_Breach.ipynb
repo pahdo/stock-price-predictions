{
 "cells": [
  {
   "cell_type": "code",
   "execution_count": 23,
   "metadata": {
    "collapsed": false
   },
   "outputs": [
    {
     "name": "stdout",
     "output_type": "stream",
     "text": [
      "Requirement already up-to-date: spacy in /usr/local/lib/python3.5/dist-packages\n",
      "Requirement already up-to-date: cymem<1.32,>=1.30 in /usr/local/lib/python3.5/dist-packages (from spacy)\n",
      "Requirement already up-to-date: thinc<6.11.0,>=6.10.1 in /usr/local/lib/python3.5/dist-packages (from spacy)\n",
      "Requirement already up-to-date: requests<3.0.0,>=2.13.0 in /usr/local/lib/python3.5/dist-packages (from spacy)\n",
      "Requirement already up-to-date: html5lib==1.0b8 in /usr/local/lib/python3.5/dist-packages (from spacy)\n",
      "Requirement already up-to-date: msgpack-numpy==0.4.1 in /usr/local/lib/python3.5/dist-packages (from spacy)\n",
      "Requirement already up-to-date: six in /usr/local/lib/python3.5/dist-packages (from spacy)\n",
      "Requirement already up-to-date: ftfy<5.0.0,>=4.4.2 in /usr/local/lib/python3.5/dist-packages (from spacy)\n",
      "Requirement already up-to-date: numpy>=1.7 in /usr/local/lib/python3.5/dist-packages (from spacy)\n",
      "Requirement already up-to-date: regex==2017.4.5 in /usr/local/lib/python3.5/dist-packages (from spacy)\n",
      "Requirement already up-to-date: plac<1.0.0,>=0.9.6 in /usr/local/lib/python3.5/dist-packages (from spacy)\n",
      "Requirement already up-to-date: pathlib in /usr/local/lib/python3.5/dist-packages (from spacy)\n",
      "Requirement already up-to-date: murmurhash<0.29,>=0.28 in /usr/local/lib/python3.5/dist-packages (from spacy)\n",
      "Requirement already up-to-date: ujson>=1.35 in /usr/local/lib/python3.5/dist-packages (from spacy)\n",
      "Requirement already up-to-date: preshed<2.0.0,>=1.0.0 in /usr/local/lib/python3.5/dist-packages (from spacy)\n",
      "Requirement already up-to-date: msgpack-python==0.5.4 in /usr/local/lib/python3.5/dist-packages (from spacy)\n",
      "Requirement already up-to-date: dill<0.3,>=0.2 in /usr/local/lib/python3.5/dist-packages (from spacy)\n",
      "Requirement already up-to-date: tqdm<5.0.0,>=4.10.0 in /usr/local/lib/python3.5/dist-packages (from thinc<6.11.0,>=6.10.1->spacy)\n",
      "Requirement already up-to-date: termcolor in /usr/local/lib/python3.5/dist-packages (from thinc<6.11.0,>=6.10.1->spacy)\n",
      "Requirement already up-to-date: wrapt in /usr/local/lib/python3.5/dist-packages (from thinc<6.11.0,>=6.10.1->spacy)\n",
      "Requirement already up-to-date: cytoolz<0.9,>=0.8 in /usr/local/lib/python3.5/dist-packages (from thinc<6.11.0,>=6.10.1->spacy)\n",
      "Requirement already up-to-date: urllib3<1.23,>=1.21.1 in /usr/local/lib/python3.5/dist-packages (from requests<3.0.0,>=2.13.0->spacy)\n",
      "Requirement already up-to-date: chardet<3.1.0,>=3.0.2 in /usr/local/lib/python3.5/dist-packages (from requests<3.0.0,>=2.13.0->spacy)\n",
      "Requirement already up-to-date: certifi>=2017.4.17 in /usr/local/lib/python3.5/dist-packages (from requests<3.0.0,>=2.13.0->spacy)\n",
      "Requirement already up-to-date: idna<2.7,>=2.5 in /usr/local/lib/python3.5/dist-packages (from requests<3.0.0,>=2.13.0->spacy)\n",
      "Requirement already up-to-date: wcwidth in /usr/local/lib/python3.5/dist-packages (from ftfy<5.0.0,>=4.4.2->spacy)\n",
      "Requirement already up-to-date: toolz>=0.8.0 in /usr/local/lib/python3.5/dist-packages (from cytoolz<0.9,>=0.8->thinc<6.11.0,>=6.10.1->spacy)\n",
      "\u001b[33mYou are using pip version 9.0.1, however version 9.0.3 is available.\n",
      "You should consider upgrading via the 'pip install --upgrade pip' command.\u001b[0m\n",
      "Requirement already up-to-date: sklearn in /usr/local/lib/python3.5/dist-packages\n",
      "Requirement already up-to-date: scikit-learn in /usr/local/lib/python3.5/dist-packages (from sklearn)\n",
      "\u001b[33mYou are using pip version 9.0.1, however version 9.0.3 is available.\n",
      "You should consider upgrading via the 'pip install --upgrade pip' command.\u001b[0m\n",
      "Requirement already satisfied: joblib in /usr/local/lib/python3.5/dist-packages\n",
      "\u001b[33mYou are using pip version 9.0.1, however version 9.0.3 is available.\n",
      "You should consider upgrading via the 'pip install --upgrade pip' command.\u001b[0m\n",
      "Requirement already satisfied: scikit-learn==0.19.1 in /usr/local/lib/python3.5/dist-packages (from -r ../requirements.txt (line 1))\n",
      "Requirement already satisfied: numpy==1.14.2 in /usr/local/lib/python3.5/dist-packages (from -r ../requirements.txt (line 2))\n",
      "Requirement already satisfied: gensim==3.2.0 in /usr/local/lib/python3.5/dist-packages (from -r ../requirements.txt (line 3))\n",
      "Requirement already satisfied: spacy==2.0.10 in /usr/local/lib/python3.5/dist-packages (from -r ../requirements.txt (line 4))\n",
      "Requirement already satisfied: scipy>=0.18.1 in /usr/local/lib/python3.5/dist-packages (from gensim==3.2.0->-r ../requirements.txt (line 3))\n",
      "Requirement already satisfied: six>=1.5.0 in /usr/local/lib/python3.5/dist-packages (from gensim==3.2.0->-r ../requirements.txt (line 3))\n",
      "Requirement already satisfied: smart-open>=1.2.1 in /usr/local/lib/python3.5/dist-packages (from gensim==3.2.0->-r ../requirements.txt (line 3))\n",
      "Requirement already satisfied: dill<0.3,>=0.2 in /usr/local/lib/python3.5/dist-packages (from spacy==2.0.10->-r ../requirements.txt (line 4))\n",
      "Requirement already satisfied: thinc<6.11.0,>=6.10.1 in /usr/local/lib/python3.5/dist-packages (from spacy==2.0.10->-r ../requirements.txt (line 4))\n",
      "Requirement already satisfied: ujson>=1.35 in /usr/local/lib/python3.5/dist-packages (from spacy==2.0.10->-r ../requirements.txt (line 4))\n",
      "Requirement already satisfied: cymem<1.32,>=1.30 in /usr/local/lib/python3.5/dist-packages (from spacy==2.0.10->-r ../requirements.txt (line 4))\n",
      "Requirement already satisfied: regex==2017.4.5 in /usr/local/lib/python3.5/dist-packages (from spacy==2.0.10->-r ../requirements.txt (line 4))\n",
      "Requirement already satisfied: html5lib==1.0b8 in /usr/local/lib/python3.5/dist-packages (from spacy==2.0.10->-r ../requirements.txt (line 4))\n",
      "Requirement already satisfied: plac<1.0.0,>=0.9.6 in /usr/local/lib/python3.5/dist-packages (from spacy==2.0.10->-r ../requirements.txt (line 4))\n",
      "Requirement already satisfied: preshed<2.0.0,>=1.0.0 in /usr/local/lib/python3.5/dist-packages (from spacy==2.0.10->-r ../requirements.txt (line 4))\n",
      "Requirement already satisfied: murmurhash<0.29,>=0.28 in /usr/local/lib/python3.5/dist-packages (from spacy==2.0.10->-r ../requirements.txt (line 4))\n",
      "Requirement already satisfied: msgpack-numpy==0.4.1 in /usr/local/lib/python3.5/dist-packages (from spacy==2.0.10->-r ../requirements.txt (line 4))\n",
      "Requirement already satisfied: requests<3.0.0,>=2.13.0 in /usr/local/lib/python3.5/dist-packages (from spacy==2.0.10->-r ../requirements.txt (line 4))\n",
      "Requirement already satisfied: msgpack-python==0.5.4 in /usr/local/lib/python3.5/dist-packages (from spacy==2.0.10->-r ../requirements.txt (line 4))\n",
      "Requirement already satisfied: ftfy<5.0.0,>=4.4.2 in /usr/local/lib/python3.5/dist-packages (from spacy==2.0.10->-r ../requirements.txt (line 4))\n",
      "Requirement already satisfied: pathlib in /usr/local/lib/python3.5/dist-packages (from spacy==2.0.10->-r ../requirements.txt (line 4))\n",
      "Requirement already satisfied: boto>=2.32 in /usr/local/lib/python3.5/dist-packages (from smart-open>=1.2.1->gensim==3.2.0->-r ../requirements.txt (line 3))\n",
      "Requirement already satisfied: bz2file in /usr/local/lib/python3.5/dist-packages (from smart-open>=1.2.1->gensim==3.2.0->-r ../requirements.txt (line 3))\n",
      "Requirement already satisfied: wrapt in /usr/local/lib/python3.5/dist-packages (from thinc<6.11.0,>=6.10.1->spacy==2.0.10->-r ../requirements.txt (line 4))\n",
      "Requirement already satisfied: cytoolz<0.9,>=0.8 in /usr/local/lib/python3.5/dist-packages (from thinc<6.11.0,>=6.10.1->spacy==2.0.10->-r ../requirements.txt (line 4))\n",
      "Requirement already satisfied: tqdm<5.0.0,>=4.10.0 in /usr/local/lib/python3.5/dist-packages (from thinc<6.11.0,>=6.10.1->spacy==2.0.10->-r ../requirements.txt (line 4))\n",
      "Requirement already satisfied: termcolor in /usr/local/lib/python3.5/dist-packages (from thinc<6.11.0,>=6.10.1->spacy==2.0.10->-r ../requirements.txt (line 4))\n",
      "Requirement already satisfied: idna<2.7,>=2.5 in /usr/local/lib/python3.5/dist-packages (from requests<3.0.0,>=2.13.0->spacy==2.0.10->-r ../requirements.txt (line 4))\n",
      "Requirement already satisfied: chardet<3.1.0,>=3.0.2 in /usr/local/lib/python3.5/dist-packages (from requests<3.0.0,>=2.13.0->spacy==2.0.10->-r ../requirements.txt (line 4))\n",
      "Requirement already satisfied: certifi>=2017.4.17 in /usr/local/lib/python3.5/dist-packages (from requests<3.0.0,>=2.13.0->spacy==2.0.10->-r ../requirements.txt (line 4))\n",
      "Requirement already satisfied: urllib3<1.23,>=1.21.1 in /usr/local/lib/python3.5/dist-packages (from requests<3.0.0,>=2.13.0->spacy==2.0.10->-r ../requirements.txt (line 4))\n",
      "Requirement already satisfied: wcwidth in /usr/local/lib/python3.5/dist-packages (from ftfy<5.0.0,>=4.4.2->spacy==2.0.10->-r ../requirements.txt (line 4))\n",
      "Requirement already satisfied: toolz>=0.8.0 in /usr/local/lib/python3.5/dist-packages (from cytoolz<0.9,>=0.8->thinc<6.11.0,>=6.10.1->spacy==2.0.10->-r ../requirements.txt (line 4))\n",
      "\u001b[33mYou are using pip version 9.0.1, however version 9.0.3 is available.\n",
      "You should consider upgrading via the 'pip install --upgrade pip' command.\u001b[0m\n"
     ]
    }
   ],
   "source": [
    "# Install a pip package in the current Jupyter kernel\n",
    "import sys\n",
    "!{sys.executable} -m pip install --upgrade spacy\n",
    "!{sys.executable} -m pip install --upgrade sklearn\n",
    "!{sys.executable} -m pip install joblib\n",
    "!{sys.executable} -m pip install -r ../requirements.txt"
   ]
  },
  {
   "cell_type": "code",
   "execution_count": 4,
   "metadata": {
    "collapsed": false
   },
   "outputs": [
    {
     "name": "stdout",
     "output_type": "stream",
     "text": [
      "Python 2.7.12\r\n"
     ]
    }
   ],
   "source": [
    "!python --version"
   ]
  },
  {
   "cell_type": "code",
   "execution_count": 24,
   "metadata": {
    "collapsed": false
   },
   "outputs": [
    {
     "name": "stdout",
     "output_type": "stream",
     "text": [
      "-0.12710411581866785\n"
     ]
    }
   ],
   "source": [
    "import utils_v2\n",
    "import os\n",
    "# db_path = os.path.join('data', 'database', 'stocks.db')\n",
    "# conn = sqlite3.connect(db_path)\n",
    "# rets = utils_v2.get_returns(conn, 'EFX', '2017-09-07', horizon=20)\n",
    "beta_efx = 1.03\n",
    "# Sep 06, 07 (release date), 08\n",
    "label_efx_closes = [141.39, 142.72, 123.23]\n",
    "label_spy_closes = [246.90, 246.87, 246.58]\n",
    "ret_efx = (label_efx_closes[2]-label_efx_closes[0])/label_efx_closes[0]\n",
    "ret_spy = (label_spy_closes[2]-label_spy_closes[0])/label_spy_closes[0]\n",
    "alpha_efx = ret_efx - beta_efx * ret_spy\n",
    "print(alpha_efx)"
   ]
  },
  {
   "cell_type": "code",
   "execution_count": 25,
   "metadata": {
    "collapsed": false
   },
   "outputs": [
    {
     "name": "stdout",
     "output_type": "stream",
     "text": [
      "[-0.00047631318803735903, 0.0012281963282051158, -0.0076333634726697755, 0.003936818148637491, -0.0014609356138786237]\n"
     ]
    }
   ],
   "source": [
    "# Aug 29 30 31 Sep 01, 05, 06\n",
    "ph_efx_closes = [140.80, 141.42, 142.47, 141.59, 141.10, 141.39]\n",
    "ph_spy_closes = [244.85, 246.01, 247.49, 247.84, 246.06, 246.90]\n",
    "alpha_efx = []\n",
    "for i in range(0,len(ph_efx_closes)-1):\n",
    "    alpha_efx.append((ph_efx_closes[i+1]-\n",
    "                      ph_efx_closes[i])/ph_efx_closes[i]-\n",
    "                     beta_efx*(ph_spy_closes[i+1]-ph_spy_closes[i])/\n",
    "                     ph_spy_closes[i])\n",
    "print(alpha_efx)"
   ]
  },
  {
   "cell_type": "code",
   "execution_count": 26,
   "metadata": {
    "collapsed": true
   },
   "outputs": [],
   "source": [
    "corpus = 'EX-99.1 2 exhibit99120170907.htm EXHIBIT 99.1 Exhibit 99.1 equifaxlogoa04a01a04.jpg For Immediate Release September 7, 2017 Equifax Announces Cybersecurity Incident Involving Consumer Information No Evidence of Unauthorized Access to Core Consumer or Commercial Credit Reporting Databases Company to Offer Free Identity Theft Protection and Credit File Monitoring to All U.S. Consumers Equifax Inc. (NYSE: EFX) today announced a cybersecurity incident potentially impacting approximately 143 million U.S. consumers. Criminals exploited a U.S. website application vulnerability to gain access to certain files. Based on the company’s investigation, the unauthorized access occurred from mid-May through July 2017. The company has found no evidence of unauthorized activity on Equifax’s core consumer or commercial credit reporting databases. The information accessed primarily includes names, Social Security numbers, birth dates, addresses and, in some instances, driver’s license numbers.  In addition, credit card numbers for approximately 209,000 U.S. consumers, and certain dispute documents with personal identifying information for approximately 182,000 U.S. consumers, were accessed. As part of its investigation of this application vulnerability, Equifax also identified unauthorized access to limited personal information for certain UK and Canadian residents. Equifax will work with UK and Canadian regulators to determine appropriate next steps. The company has found no evidence that personal information of consumers in any other country has been impacted. Equifax discovered the unauthorized access on July 29 of this year and acted immediately to stop the intrusion. The company promptly engaged a leading, independent cybersecurity firm that has been conducting a comprehensive forensic review to determine the scope of the intrusion, including the specific data impacted. Equifax also reported the criminal access to law enforcement and continues to work with authorities. While the company’s investigation is substantially complete, it remains ongoing and is expected to be completed in the coming weeks. This is clearly a disappointing event for our company, and one that strikes at the heart of who we are and what we do. I apologize to consumers and our business customers for the concern and frustration this causes, said Chairman and Chief Executive Officer, Richard F. Smith. We pride ourselves on being a leader in managing and protecting data, and we are conducting a thorough review of our overall security operations. We also are focused on consumer protection and have developed a comprehensive portfolio of services to support all U.S. consumers, regardless of whether they were impacted by this incident. Equifax has established a dedicated website, www.equifaxsecurity2017.com, to help consumers determine if their information has been potentially impacted and to sign up for credit file monitoring and identity theft protection. The offering, called TrustedID Premier, includes 3-Bureau credit monitoring of Equifax, Experian and TransUnion credit reports; copies of Equifax credit reports; the ability to lock and unlock Equifax credit reports; identity theft insurance; and Internet scanning for Social Security numbers - all complimentary to U.S. consumers for one year. The website also provides additional information on steps consumers can take to protect their personal information. Equifax recommends that consumers with additional questions visit www.equifaxsecurity2017.com or contact a dedicated call center at 866-447-7559, which the company set up to assist consumers. The call center is open every day (including weekends) from 7:00 a.m. - 1:00 a.m. Eastern time. In addition to the website, Equifax will send direct mail notices to consumers whose credit card numbers or dispute documents with personal identifying information were impacted. Equifax also is in the process of contacting U.S. state and federal regulators and has sent written notifications to all U.S. state attorneys general, which includes Equifax contact information for regulator inquiries. Equifax has engaged a leading, independent cybersecurity firm to conduct an assessment and provide recommendations on steps that can be taken to help prevent this type of incident from happening again. CEO Smith said, I’ve told our entire team that our goal can’t be simply to fix the problem and move on. Confronting cybersecurity risks is a daily fight. While we’ve made significant investments in data security, we recognize we must do more. And we will. About Equifax Equifax is a global information solutions company that uses trusted unique data, innovative analytics, technology and industry expertise to power organizations and individuals around the world by transforming knowledge into insights that help make more informed business and personal decisions. Headquartered in Atlanta, Ga., Equifax operates or has investments in 24 countries in North America, Central and South America, Europe and the Asia Pacific region. It is a member of Standard & Poors (S&P) 500® Index, and its common stock is traded on the New York Stock Exchange (NYSE) under the symbol EFX. Equifax employs approximately 9,900 employees worldwide. Forward-Looking Statements This release contains forward-looking statements and forward-looking information. These statements can be identified by expressions of belief, expectation or intention, as well as estimates and statements that are not historical fact. These statements are based on certain factors and assumptions with respect to the investigation of the cybersecurity incident to date. While the company believes these factors and assumptions to be reasonable based on information currently available, they may prove to be incorrect. Several factors could cause actual results to differ materially from those expressed or implied in the forward-looking statements, including, but not limited to, the final results of the investigation, including the final scope of the intrusion, the type of information accessed and the number of consumers impacted. A summary of additional risks and uncertainties can be found in our Annual Report on Form 10-K for the year ended December 31, 2016, including without limitation under the captions Item 1. Business -- Governmental Regulation and -- Forward-Looking Statements and Item 1A. Risk Factors, and in our other filings with the U.S. Securities and Exchange Commission. Forward-looking statements are given only as at the date of this release and the company disclaims any obligation to update or revise the forward-looking statements, whether as a result of new information, future events or otherwise, except as required by law. Contacts: Ines Gutzmer Corporate Communications mediainquiries@equifax.com 404-885-8555'"
   ]
  },
  {
   "cell_type": "code",
   "execution_count": 27,
   "metadata": {
    "collapsed": false
   },
   "outputs": [],
   "source": [
    "import spacy\n",
    "from spacy.lang.en.lemmatizer import LOOKUP\n",
    "from spacy.lang.en.stop_words import STOP_WORDS\n",
    "nlp = spacy.blank('en')\n",
    "\n",
    "def en_lemmatizer(doc):\n",
    "    for token in doc:\n",
    "        token.lemma_ = LOOKUP.get(token.lower_, u'oov')\n",
    "        if token in STOP_WORDS:\n",
    "            token.is_stop = True\n",
    "    return doc\n",
    "\n",
    "nlp.add_pipe(en_lemmatizer, name='en_lemmatizer', last=True)"
   ]
  },
  {
   "cell_type": "code",
   "execution_count": 28,
   "metadata": {
    "collapsed": false
   },
   "outputs": [
    {
     "ename": "KeyError",
     "evalue": "0",
     "output_type": "error",
     "traceback": [
      "\u001b[0;31m---------------------------------------------------------------------------\u001b[0m",
      "\u001b[0;31mKeyError\u001b[0m                                  Traceback (most recent call last)",
      "\u001b[0;32m<ipython-input-28-80ea6740be63>\u001b[0m in \u001b[0;36m<module>\u001b[0;34m()\u001b[0m\n\u001b[1;32m      4\u001b[0m \u001b[0;32mimport\u001b[0m \u001b[0mjoblib\u001b[0m\u001b[0;34m\u001b[0m\u001b[0m\n\u001b[1;32m      5\u001b[0m \u001b[0;32mimport\u001b[0m \u001b[0mpickle\u001b[0m\u001b[0;34m\u001b[0m\u001b[0m\n\u001b[0;32m----> 6\u001b[0;31m \u001b[0mbest_estimator\u001b[0m \u001b[0;34m=\u001b[0m \u001b[0mjoblib\u001b[0m\u001b[0;34m.\u001b[0m\u001b[0mload\u001b[0m\u001b[0;34m(\u001b[0m\u001b[0mpickle_path\u001b[0m\u001b[0;34m)\u001b[0m\u001b[0;34m\u001b[0m\u001b[0m\n\u001b[0m\u001b[1;32m      7\u001b[0m \u001b[0mbest_estimator\u001b[0m\u001b[0;34m.\u001b[0m\u001b[0mscore\u001b[0m\u001b[0;34m(\u001b[0m\u001b[0malpha_efx\u001b[0m\u001b[0;34m)\u001b[0m\u001b[0;34m\u001b[0m\u001b[0m\n",
      "\u001b[0;32m/usr/local/lib/python3.5/dist-packages/joblib/numpy_pickle.py\u001b[0m in \u001b[0;36mload\u001b[0;34m(filename, mmap_mode)\u001b[0m\n\u001b[1;32m    576\u001b[0m                     \u001b[0;32mreturn\u001b[0m \u001b[0mload_compatibility\u001b[0m\u001b[0;34m(\u001b[0m\u001b[0mfobj\u001b[0m\u001b[0;34m)\u001b[0m\u001b[0;34m\u001b[0m\u001b[0m\n\u001b[1;32m    577\u001b[0m \u001b[0;34m\u001b[0m\u001b[0m\n\u001b[0;32m--> 578\u001b[0;31m                 \u001b[0mobj\u001b[0m \u001b[0;34m=\u001b[0m \u001b[0m_unpickle\u001b[0m\u001b[0;34m(\u001b[0m\u001b[0mfobj\u001b[0m\u001b[0;34m,\u001b[0m \u001b[0mfilename\u001b[0m\u001b[0;34m,\u001b[0m \u001b[0mmmap_mode\u001b[0m\u001b[0;34m)\u001b[0m\u001b[0;34m\u001b[0m\u001b[0m\n\u001b[0m\u001b[1;32m    579\u001b[0m \u001b[0;34m\u001b[0m\u001b[0m\n\u001b[1;32m    580\u001b[0m     \u001b[0;32mreturn\u001b[0m \u001b[0mobj\u001b[0m\u001b[0;34m\u001b[0m\u001b[0m\n",
      "\u001b[0;32m/usr/local/lib/python3.5/dist-packages/joblib/numpy_pickle.py\u001b[0m in \u001b[0;36m_unpickle\u001b[0;34m(fobj, filename, mmap_mode)\u001b[0m\n\u001b[1;32m    506\u001b[0m     \u001b[0mobj\u001b[0m \u001b[0;34m=\u001b[0m \u001b[0;32mNone\u001b[0m\u001b[0;34m\u001b[0m\u001b[0m\n\u001b[1;32m    507\u001b[0m     \u001b[0;32mtry\u001b[0m\u001b[0;34m:\u001b[0m\u001b[0;34m\u001b[0m\u001b[0m\n\u001b[0;32m--> 508\u001b[0;31m         \u001b[0mobj\u001b[0m \u001b[0;34m=\u001b[0m \u001b[0munpickler\u001b[0m\u001b[0;34m.\u001b[0m\u001b[0mload\u001b[0m\u001b[0;34m(\u001b[0m\u001b[0;34m)\u001b[0m\u001b[0;34m\u001b[0m\u001b[0m\n\u001b[0m\u001b[1;32m    509\u001b[0m         \u001b[0;32mif\u001b[0m \u001b[0munpickler\u001b[0m\u001b[0;34m.\u001b[0m\u001b[0mcompat_mode\u001b[0m\u001b[0;34m:\u001b[0m\u001b[0;34m\u001b[0m\u001b[0m\n\u001b[1;32m    510\u001b[0m             warnings.warn(\"The file '%s' has been generated with a \"\n",
      "\u001b[0;32m/usr/lib/python3.5/pickle.py\u001b[0m in \u001b[0;36mload\u001b[0;34m(self)\u001b[0m\n\u001b[1;32m   1037\u001b[0m                     \u001b[0;32mraise\u001b[0m \u001b[0mEOFError\u001b[0m\u001b[0;34m\u001b[0m\u001b[0m\n\u001b[1;32m   1038\u001b[0m                 \u001b[0;32massert\u001b[0m \u001b[0misinstance\u001b[0m\u001b[0;34m(\u001b[0m\u001b[0mkey\u001b[0m\u001b[0;34m,\u001b[0m \u001b[0mbytes_types\u001b[0m\u001b[0;34m)\u001b[0m\u001b[0;34m\u001b[0m\u001b[0m\n\u001b[0;32m-> 1039\u001b[0;31m                 \u001b[0mdispatch\u001b[0m\u001b[0;34m[\u001b[0m\u001b[0mkey\u001b[0m\u001b[0;34m[\u001b[0m\u001b[0;36m0\u001b[0m\u001b[0;34m]\u001b[0m\u001b[0;34m]\u001b[0m\u001b[0;34m(\u001b[0m\u001b[0mself\u001b[0m\u001b[0;34m)\u001b[0m\u001b[0;34m\u001b[0m\u001b[0m\n\u001b[0m\u001b[1;32m   1040\u001b[0m         \u001b[0;32mexcept\u001b[0m \u001b[0m_Stop\u001b[0m \u001b[0;32mas\u001b[0m \u001b[0mstopinst\u001b[0m\u001b[0;34m:\u001b[0m\u001b[0;34m\u001b[0m\u001b[0m\n\u001b[1;32m   1041\u001b[0m             \u001b[0;32mreturn\u001b[0m \u001b[0mstopinst\u001b[0m\u001b[0;34m.\u001b[0m\u001b[0mvalue\u001b[0m\u001b[0;34m\u001b[0m\u001b[0m\n",
      "\u001b[0;31mKeyError\u001b[0m: 0"
     ]
    }
   ],
   "source": [
    "pickle_path = 'dm_dbow_tfidf_full_1_best_estimator.pkl'                                                                   \n",
    "corpus = nlp(corpus)\n",
    "corpus = \" \".join(list(map(lambda x: x.lemma_, filter(lambda token: token.is_alpha and not token.is_stop and not token.lemma_ == u'oov', corpus))))\n",
    "import joblib\n",
    "import pickle\n",
    "best_estimator = joblib.load(pickle_path)\n",
    "best_estimator.score(alpha_efx)"
   ]
  },
  {
   "cell_type": "code",
   "execution_count": null,
   "metadata": {
    "collapsed": false
   },
   "outputs": [],
   "source": []
  },
  {
   "cell_type": "code",
   "execution_count": null,
   "metadata": {
    "collapsed": true
   },
   "outputs": [],
   "source": []
  }
 ],
 "metadata": {
  "kernelspec": {
   "display_name": "Python 3",
   "language": "python",
   "name": "python3"
  },
  "language_info": {
   "codemirror_mode": {
    "name": "ipython",
    "version": 3
   },
   "file_extension": ".py",
   "mimetype": "text/x-python",
   "name": "python",
   "nbconvert_exporter": "python",
   "pygments_lexer": "ipython3",
   "version": "3.5.2"
  }
 },
 "nbformat": 4,
 "nbformat_minor": 0
}
