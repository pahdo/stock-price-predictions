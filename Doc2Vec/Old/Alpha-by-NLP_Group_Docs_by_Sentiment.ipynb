{
 "cells": [
  {
   "cell_type": "code",
   "execution_count": 1,
   "metadata": {
    "collapsed": true
   },
   "outputs": [],
   "source": [
    "# Configuration\n",
    "cikTickerPath = '../../GROUP_SHARED/data/10K/10-X_C/cikTicker.txt'\n",
    "form10KPath = '../../GROUP_SHARED/data/10K/10-X_C/'"
   ]
  },
  {
   "cell_type": "code",
   "execution_count": 2,
   "metadata": {
    "collapsed": true
   },
   "outputs": [],
   "source": [
    "with open(cikTickerPath) as cikfile:\n",
    "    cikTicker = cikfile.read()  \n",
    "cikTicker = cikTicker.replace('\\n', '')\n",
    "cikTicker = cikTicker.replace('\"', '')\n",
    "cikTicker = cikTicker.replace('\"', '')\n",
    "cikTicker = cikTicker[2:-2].split('}, {')\n",
    "cikdict = dict(s.split(', ') for s in cikTicker)"
   ]
  },
  {
   "cell_type": "markdown",
   "metadata": {},
   "source": [
    "### Parser #1"
   ]
  },
  {
   "cell_type": "code",
   "execution_count": 3,
   "metadata": {},
   "outputs": [
    {
     "data": {
      "text/plain": [
       "'\\nimport sys\\nsys.path.append(\\'../Database\\')\\nimport getReturns\\nimport numpy as np\\nimport os\\nimport time\\nimport sqlite3\\n\\nconn = sqlite3.connect(\\'../Database/stocks.db\\')\\nresults = getReturns.getRets(conn, \\'AAPL\\', \\'2016-07-27\\')\\nprint(results[0][3])\\n\\ndef parseTxtName(txt):\\n    txt = os.path.basename(txt)\\n    field_num = 1\\n    onZeros = True\\n    cik = \\'\\'\\n    date = \\'\\'\\n    _ = \\'\\'\\n    hitDash = False\\n    date_idx = 0\\n    for i in txt:\\n        if field_num == 1:\\n            if (date_idx == 4 or date_idx == 6):\\n                date += \\'-\\'\\n            if i != \\'_\\':\\n                date += i\\n            date_idx += 1\\n        if field_num == 6:\\n            if i != \\'0\\':\\n                onZeros = False\\n            if i == \\'-\\':\\n                hitDash = True\\n            if (not onZeros and not hitDash):\\n                _ += i\\n        if i == \\'_\\':\\n            field_num += 1\\n        if field_num == 5:\\n            if i != \\'_\\':\\n                cik += i\\n    #while (len(cik) < 10):\\n        #cik = \\'0\\' + cik\\n    return _, cik, date\\n \\ntest_txt = \\'20160727_10-Q_edgar_data_320193_0001628280-16-017809_1.txt\\' # AAPL\\nprint(parseTxtName(test_txt))\\n\\ndef isPos(txt, cikdict): \\n    cik, date = parseTxtName(txt)\\n    if cik in cikdict:\\n        ret = getReturns.getRets(conn, cikdict[cik], date, 4)\\n    else:\\n        raise Exception(\\'Not in cikDict\\')\\n    if (len(ret) == 0):\\n        return(np.sign(ret[0][3])==1.0)\\n    else:\\n        raise Exception(\\'Query failed\\')\\n    \\nstart = time.clock()\\nprint(isPos(test_txt, cikdict))\\nend = time.clock()\\nprint(\"Processor time: {0}\".format(end-start))\\n'"
      ]
     },
     "execution_count": 3,
     "metadata": {},
     "output_type": "execute_result"
    }
   ],
   "source": [
    "\"\"\"\n",
    "import sys\n",
    "sys.path.append('../Database')\n",
    "import getReturns\n",
    "import numpy as np\n",
    "import os\n",
    "import time\n",
    "import sqlite3\n",
    "\n",
    "conn = sqlite3.connect('../Database/stocks.db')\n",
    "results = getReturns.getRets(conn, 'AAPL', '2016-07-27')\n",
    "print(results[0][3])\n",
    "\n",
    "def parseTxtName(txt):\n",
    "    txt = os.path.basename(txt)\n",
    "    field_num = 1\n",
    "    onZeros = True\n",
    "    cik = ''\n",
    "    date = ''\n",
    "    _ = ''\n",
    "    hitDash = False\n",
    "    date_idx = 0\n",
    "    for i in txt:\n",
    "        if field_num == 1:\n",
    "            if (date_idx == 4 or date_idx == 6):\n",
    "                date += '-'\n",
    "            if i != '_':\n",
    "                date += i\n",
    "            date_idx += 1\n",
    "        if field_num == 6:\n",
    "            if i != '0':\n",
    "                onZeros = False\n",
    "            if i == '-':\n",
    "                hitDash = True\n",
    "            if (not onZeros and not hitDash):\n",
    "                _ += i\n",
    "        if i == '_':\n",
    "            field_num += 1\n",
    "        if field_num == 5:\n",
    "            if i != '_':\n",
    "                cik += i\n",
    "    #while (len(cik) < 10):\n",
    "        #cik = '0' + cik\n",
    "    return _, cik, date\n",
    " \n",
    "test_txt = '20160727_10-Q_edgar_data_320193_0001628280-16-017809_1.txt' # AAPL\n",
    "print(parseTxtName(test_txt))\n",
    "\n",
    "def isPos(txt, cikdict): \n",
    "    cik, date = parseTxtName(txt)\n",
    "    if cik in cikdict:\n",
    "        ret = getReturns.getRets(conn, cikdict[cik], date, 4)\n",
    "    else:\n",
    "        raise Exception('Not in cikDict')\n",
    "    if (len(ret) == 0):\n",
    "        return(np.sign(ret[0][3])==1.0)\n",
    "    else:\n",
    "        raise Exception('Query failed')\n",
    "    \n",
    "start = time.clock()\n",
    "print(isPos(test_txt, cikdict))\n",
    "end = time.clock()\n",
    "print(\"Processor time: {0}\".format(end-start))\n",
    "\"\"\""
   ]
  },
  {
   "cell_type": "markdown",
   "metadata": {},
   "source": [
    "### Parser with RegEx"
   ]
  },
  {
   "cell_type": "code",
   "execution_count": 4,
   "metadata": {},
   "outputs": [
    {
     "name": "stdout",
     "output_type": "stream",
     "text": [
      "Connection open processor time: 0.0003980000000001205\n",
      "AAPL Return on 2016-07-27: 0.0660938202179\n",
      "Parsed title: ('320193', '2016-07-27')\n",
      "isPos = True\n",
      "isPos processor time: 0.0041839999999999655\n"
     ]
    }
   ],
   "source": [
    "import sys\n",
    "sys.path.append('../Database')\n",
    "import getReturns\n",
    "import numpy as np\n",
    "import os\n",
    "import re\n",
    "import time\n",
    "import sqlite3\n",
    "\n",
    "start = time.clock()\n",
    "conn = sqlite3.connect('../Database/stocks.db')\n",
    "end = time.clock()\n",
    "print(\"Connection open processor time: {0}\".format(end-start))\n",
    "results = getReturns.getRets(conn, 'AAPL', '2016-07-27')\n",
    "print(\"AAPL Return on 2016-07-27: {0}\".format(results[0][3]))\n",
    "\n",
    "def parseTxtName(txt):\n",
    "    txt = os.path.basename(txt)\n",
    "    pattern = \"edgar_data_(.*?)_\"\n",
    "    m = re.search(pattern, txt)\n",
    "    if m:\n",
    "        cik = m.group(1)\n",
    "    pattern = \"(\\d{8})_\"\n",
    "    m = re.search(pattern, txt)\n",
    "    if m:\n",
    "        date = m.group(1)\n",
    "    date = '{}-{}-{}'.format(date[0:4], date[4:6], date[6:])\n",
    "    return cik, date\n",
    " \n",
    "test_txt = '20160727_10-Q_edgar_data_320193_0001628280-16-017809_1.txt' # AAPL\n",
    "print(\"Parsed title: {0}\".format(parseTxtName(test_txt)))\n",
    "\n",
    "def isPos(txt, cikdict): \n",
    "    #start = time.clock()\n",
    "    cik, date = parseTxtName(txt)\n",
    "    #end = time.clock()\n",
    "    #print(\"Title parsing processor time: {0}\".format(end-start))\n",
    "    #start = time.clock()\n",
    "    if cik in cikdict:\n",
    "        ret = getReturns.getRets(conn, cikdict[cik], date, 4)\n",
    "    else:\n",
    "        raise Exception('Not in cikDict')\n",
    "    #end = time.clock()\n",
    "    #print(\"Query processor time: {0}\".format(end-start))\n",
    "    if (len(ret) != 0):\n",
    "        return(np.sign(ret[0][3])==1.0)\n",
    "    else:\n",
    "        raise Exception('Query failed')\n",
    "    \n",
    "start = time.clock()\n",
    "print(\"isPos = {0}\".format(isPos(test_txt, cikdict)))\n",
    "end = time.clock()\n",
    "print(\"isPos processor time: {0}\".format(end-start))"
   ]
  },
  {
   "cell_type": "code",
   "execution_count": 5,
   "metadata": {},
   "outputs": [
    {
     "name": "stdout",
     "output_type": "stream",
     "text": [
      "Folders already made.\n",
      "Folders already made.\n",
      "Folders already made.\n",
      "Folders already made.\n",
      "Folders already made.\n"
     ]
    }
   ],
   "source": [
    "import shutil\n",
    "\n",
    "folders = ['data/train/pos', 'data/train/neg', 'data/test/pos', 'data/test/neg', 'data/train/unsup']\n",
    "for fol in folders:\n",
    "    if not os.path.exists(fol):\n",
    "        os.makedirs(fol)\n",
    "    else:\n",
    "        #shutil.rmtree(fol) # Clear old text files\n",
    "        #os.makedirs(fol)\n",
    "        print(\"Folders already made.\")"
   ]
  },
  {
   "cell_type": "code",
   "execution_count": null,
   "metadata": {
    "collapsed": true
   },
   "outputs": [],
   "source": [
    "import glob\n",
    "import random\n",
    "\n",
    "import sys\n",
    "\n",
    "orig_stdout = sys.stdout\n",
    "f = open('out_group_docs_by_sentiment.txt', 'w')\n",
    "sys.stdout = f\n",
    "\n",
    "#prefix = '/Users/daniel/Downloads/Versioned/text-analytics-for-accountancy/data/Form_10-Ks/'\n",
    "#prefix = '../data/Form_10-Ks/'\n",
    "quarters = ['2013/QTR2', '2013/QTR3', '2013/QTR4', \n",
    "            '2012/QTR1', '2012/QTR2', '2012/QTR3', '2012/QTR4', \n",
    "            '2011/QTR1', '2011/QTR2', '2011/QTR3', '2011/QTR4', \n",
    "            '2010/QTR1', '2010/QTR2', '2010/QTR3', '2010/QTR4', \n",
    "            '2009/QTR1', '2009/QTR2', '2009/QTR3', '2009/QTR4', \n",
    "            '2008/QTR1', '2008/QTR2', '2008/QTR3', '2008/QTR4', \n",
    "            '2007/QTR1', '2007/QTR2', '2007/QTR3', '2007/QTR4', \n",
    "            '2006/QTR1', '2006/QTR2', '2006/QTR3', '2006/QTR4', \n",
    "            '2005/QTR1', '2005/QTR2', '2005/QTR3', '2005/QTR4', \n",
    "            '2004/QTR1', '2004/QTR2', '2004/QTR3', '2004/QTR4', \n",
    "            '2003/QTR1', '2003/QTR2', '2003/QTR3', '2003/QTR4', \n",
    "            '2002/QTR1', '2002/QTR2', '2002/QTR3', '2002/QTR4', \n",
    "            '2001/QTR1', '2001/QTR2', '2001/QTR3', '2001/QTR4', \n",
    "            '2000/QTR1', '2000/QTR2', '2000/QTR3', '2000/QTR4', \n",
    "            '1999/QTR1', '1999/QTR2', '1999/QTR3', '1999/QTR4', \n",
    "            '1998/QTR1', '1998/QTR2', '1998/QTR3', '1998/QTR4', \n",
    "            '1997/QTR1', '1997/QTR2', '1997/QTR3', '1997/QTR4', \n",
    "            '1996/QTR1', '1996/QTR2', '1996/QTR3', '1996/QTR4', \n",
    "            '1995/QTR1', '1995/QTR2', '1995/QTR3', '1995/QTR4',\n",
    "            '1994/QTR1', '1994/QTR2', '1994/QTR3', '1994/QTR4'\n",
    "           ]\n",
    "start_all = time.clock()\n",
    "start_time_all = time.time()\n",
    "for quarter in quarters:\n",
    "    start = time.clock()\n",
    "    start_time = time.time()\n",
    "    print(\"Starting quarter {0}\".format(quarter))\n",
    "    dirname = os.path.join(form10KPath, quarter)\n",
    "    txt_files = glob.glob(os.path.join(dirname, '*.txt'))\n",
    "    for txt in txt_files:\n",
    "        rand = random.random()\n",
    "        #start = time.clock()\n",
    "        try:\n",
    "            pos = isPos(txt, cikdict)\n",
    "        except Exception:\n",
    "            continue\n",
    "        #end = time.clock()\n",
    "        #print(\"Query processor time: {0}\".format(end-start))\n",
    "        #start = time.clock()\n",
    "        if (pos and rand <= 0.8):\n",
    "            shutil.copy(txt, os.path.join(folders[0], os.path.basename(txt)))\n",
    "        elif (pos and rand > 0.8): \n",
    "            shutil.copy(txt, os.path.join(folders[2], os.path.basename(txt)))\n",
    "        elif (not pos and rand <= 0.8):\n",
    "            shutil.copy(txt, os.path.join(folders[1], os.path.basename(txt)))\n",
    "        else: # not pos and rand > 0.8\n",
    "            shutil.copy(txt, os.path.join(folders[3], os.path.basename(txt)))\n",
    "        #end = time.clock()\n",
    "        #print(\"Copy processor time: {0}\".format(end-start))\n",
    "    end = time.clock()\n",
    "    end_time = time.time()\n",
    "    print(\"Processor time {0}\".format(end-start))\n",
    "    print(\"Running time {0}\".format(end_time-start_time))\n",
    "end_all = time.clock()\n",
    "end_time_all = time.time()\n",
    "print(\"Total processor time {0}\".format(end_all-start_all))\n",
    "print(\"Total running time {0}\".format(end_time_all-start_time_all))\n",
    "\n",
    "sys.stdout = orig_stdout\n",
    "f.close()"
   ]
  },
  {
   "cell_type": "code",
   "execution_count": null,
   "metadata": {
    "collapsed": true
   },
   "outputs": [],
   "source": []
  }
 ],
 "metadata": {
  "kernelspec": {
   "display_name": "Python 3",
   "language": "python",
   "name": "python3"
  },
  "language_info": {
   "codemirror_mode": {
    "name": "ipython",
    "version": 3
   },
   "file_extension": ".py",
   "mimetype": "text/x-python",
   "name": "python",
   "nbconvert_exporter": "python",
   "pygments_lexer": "ipython3",
   "version": "3.6.2"
  }
 },
 "nbformat": 4,
 "nbformat_minor": 2
}
