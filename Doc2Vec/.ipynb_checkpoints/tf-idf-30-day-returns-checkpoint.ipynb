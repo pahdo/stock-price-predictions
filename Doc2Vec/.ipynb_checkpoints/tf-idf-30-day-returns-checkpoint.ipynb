{
 "cells": [
  {
   "cell_type": "code",
   "execution_count": null,
   "metadata": {
    "collapsed": true
   },
   "outputs": [],
   "source": [
    "from Doc2VecUtils import SentimentDocument\n",
    "from Doc2VecUtils import file_len\n",
    "import os.path"
   ]
  },
  {
   "cell_type": "code",
   "execution_count": 1,
   "metadata": {},
   "outputs": [
    {
     "name": "stderr",
     "output_type": "stream",
     "text": [
      "Using TensorFlow backend.\n"
     ]
    }
   ],
   "source": [
    "import gensim.utils\n",
    "def read_corpus_plain(fname):\n",
    "    for line in open(fname, encoding='utf-8'):\n",
    "        # For training data, add tags\n",
    "        tokens = gensim.utils.to_unicode(line).split()\n",
    "        if(len(tokens)==0):\n",
    "            continue\n",
    "        words = tokens[1:]\n",
    "        yield ' '.join(words)"
   ]
  },
  {
   "cell_type": "code",
   "execution_count": 2,
   "metadata": {},
   "outputs": [
    {
     "ename": "NameError",
     "evalue": "name 'file_len' is not defined",
     "output_type": "error",
     "traceback": [
      "\u001b[0;31m---------------------------------------------------------------------------\u001b[0m",
      "\u001b[0;31mNameError\u001b[0m                                 Traceback (most recent call last)",
      "\u001b[0;32m<ipython-input-2-64e9db02b947>\u001b[0m in \u001b[0;36m<module>\u001b[0;34m()\u001b[0m\n\u001b[1;32m      1\u001b[0m \u001b[0mdirname\u001b[0m \u001b[0;34m=\u001b[0m \u001b[0;34m'data_by_returns_small'\u001b[0m\u001b[0;34m\u001b[0m\u001b[0m\n\u001b[0;32m----> 2\u001b[0;31m \u001b[0mnum_lines_test\u001b[0m \u001b[0;34m=\u001b[0m \u001b[0mfile_len\u001b[0m\u001b[0;34m(\u001b[0m\u001b[0mos\u001b[0m\u001b[0;34m.\u001b[0m\u001b[0mpath\u001b[0m\u001b[0;34m.\u001b[0m\u001b[0mjoin\u001b[0m\u001b[0;34m(\u001b[0m\u001b[0mdirname\u001b[0m\u001b[0;34m,\u001b[0m \u001b[0;34m'test-pos.txt'\u001b[0m\u001b[0;34m)\u001b[0m\u001b[0;34m)\u001b[0m\u001b[0;34m\u001b[0m\u001b[0m\n\u001b[0m\u001b[1;32m      3\u001b[0m \u001b[0mnum_lines_test\u001b[0m \u001b[0;34m+=\u001b[0m \u001b[0mfile_len\u001b[0m\u001b[0;34m(\u001b[0m\u001b[0mos\u001b[0m\u001b[0;34m.\u001b[0m\u001b[0mpath\u001b[0m\u001b[0;34m.\u001b[0m\u001b[0mjoin\u001b[0m\u001b[0;34m(\u001b[0m\u001b[0mdirname\u001b[0m\u001b[0;34m,\u001b[0m \u001b[0;34m'test-neg.txt'\u001b[0m\u001b[0;34m)\u001b[0m\u001b[0;34m)\u001b[0m\u001b[0;34m\u001b[0m\u001b[0m\n\u001b[1;32m      4\u001b[0m \u001b[0mnum_lines_train\u001b[0m \u001b[0;34m=\u001b[0m \u001b[0mfile_len\u001b[0m\u001b[0;34m(\u001b[0m\u001b[0mos\u001b[0m\u001b[0;34m.\u001b[0m\u001b[0mpath\u001b[0m\u001b[0;34m.\u001b[0m\u001b[0mjoin\u001b[0m\u001b[0;34m(\u001b[0m\u001b[0mdirname\u001b[0m\u001b[0;34m,\u001b[0m \u001b[0;34m'train-pos.txt'\u001b[0m\u001b[0;34m)\u001b[0m\u001b[0;34m)\u001b[0m\u001b[0;34m\u001b[0m\u001b[0m\n\u001b[1;32m      5\u001b[0m \u001b[0mnum_lines_train\u001b[0m \u001b[0;34m+=\u001b[0m \u001b[0mfile_len\u001b[0m\u001b[0;34m(\u001b[0m\u001b[0mos\u001b[0m\u001b[0;34m.\u001b[0m\u001b[0mpath\u001b[0m\u001b[0;34m.\u001b[0m\u001b[0mjoin\u001b[0m\u001b[0;34m(\u001b[0m\u001b[0mdirname\u001b[0m\u001b[0;34m,\u001b[0m \u001b[0;34m'train-neg.txt'\u001b[0m\u001b[0;34m)\u001b[0m\u001b[0;34m)\u001b[0m\u001b[0;34m\u001b[0m\u001b[0m\n",
      "\u001b[0;31mNameError\u001b[0m: name 'file_len' is not defined"
     ]
    }
   ],
   "source": [
    "dirname = 'data_by_returns_small'\n",
    "num_lines_test = file_len(os.path.join(dirname, 'test-pos.txt'))\n",
    "num_lines_test += file_len(os.path.join(dirname, 'test-neg.txt'))\n",
    "num_lines_train = file_len(os.path.join(dirname, 'train-pos.txt'))\n",
    "num_lines_train += file_len(os.path.join(dirname, 'train-neg.txt'))"
   ]
  },
  {
   "cell_type": "code",
   "execution_count": null,
   "metadata": {
    "collapsed": true
   },
   "outputs": [],
   "source": [
    "from sklearn.feature_extraction.text import TfidfVectorizer\n",
    "import pandas as pd\n",
    "vectorizer = TfidfVectorizer(max_features=300, max_df=0.3, min_df=0.1, sublinear_tf=True)\n",
    "train_docs = read_corpus_plain(os.path.join(dirname, 'train-all.txt'))\n",
    "tfidf_matrix = vectorizer.fit_transform(train_docs)\n",
    "feature_names = vectorizer.get_feature_names()\n",
    "dense = tfidf_matrix.todense()\n",
    "denselist = dense.tolist()\n",
    "df = pd.DataFrame(denselist, columns=feature_names)\n",
    "df"
   ]
  },
  {
   "cell_type": "code",
   "execution_count": null,
   "metadata": {
    "collapsed": true
   },
   "outputs": [],
   "source": [
    "from sklearn.manifold import TSNE\n",
    "from matplotlib import pyplot as plt\n",
    "from sklearn.utils import resample\n",
    "from Doc2VecUtils import read_labeled_corpus\n",
    "subsample = 1.0\n",
    "\n",
    "train_set = read_labeled_corpus(os.path.join(dirname, 'train-pos.txt'), os.path.join(dirname, 'train-neg.txt'), 'train')\n",
    "train_targets, train_words = zip(*[(doc.sentiment, ' '.join(doc.words)) for doc in train_set])\n",
    "train_regressors = vectorizer.fit_transform(train_words).todense().tolist()\n",
    "train_targets, train_regressors = resample(train_targets, train_regressors, n_samples = int(subsample * num_lines_train))\n",
    "embedded = TSNE(n_components=2).fit_transform(train_regressors)\n",
    "vis_x = embedded[:, 0]\n",
    "vis_y = embedded[:, 1]\n",
    "\n",
    "plt.scatter(vis_x, vis_y, c=train_targets, cmap=plt.cm.get_cmap(\"Paired\"))\n",
    "plt.colorbar(ticks=range(2))\n",
    "plt.title(\"TSNE of Tfidf Vectors\")\n",
    "plt.show()"
   ]
  },
  {
   "cell_type": "code",
   "execution_count": null,
   "metadata": {
    "collapsed": true
   },
   "outputs": [],
   "source": [
    "from sklearn import linear_model\n",
    "from sklearn import ensemble\n",
    "from sklearn import svm\n",
    "import numpy as np\n",
    "\n",
    "results = []\n",
    "classifiers = [linear_model.LogisticRegression(), ensemble.RandomForestClassifier(), svm.SVC()]\n",
    "\n",
    "test_set = read_labeled_corpus(os.path.join(dirname, 'test-pos.txt'), os.path.join(dirname, 'test-neg.txt'), 'test')\n",
    "test_targets, test_words = zip(*[(doc.sentiment, ' '.join(doc.words)) for doc in test_set])\n",
    "test_regressors = vectorizer.fit_transform(test_words).todense().tolist()\n",
    "out_string = \"\"\n",
    "for classifier in classifiers:\n",
    "    classifier.fit(test_regressors, test_targets)\n",
    "    test_predictions = classifier.predict(test_regressors)\n",
    "    len_predictions = len(test_predictions)\n",
    "    corrects = sum(np.rint(test_predictions) == test_targets)\n",
    "    errors = len_predictions - corrects\n",
    "    error_rate = float(errors) / len_predictions\n",
    "    err, err_count, test_count, predictor = error_rate, errors, len_predictions, classifier\n",
    "    results.append((1-err, test_count-err_count, test_count, predictor, \"TfidfVectorizer(max_features=300, max_df=0.3, min_df=0.1, sublinear_tf=True)\"))\n",
    "    out_string+=\"Error: {0}; Error Count: {1}; Test Count {2}; Predictor: {3}; Model: {4}\\n\".format(err, err_count, test_count, predictor, \"TfidfVectorizer(max_features=300, max_df=0.3, min_df=0.1, sublinear_tf=True)\")\n",
    "df = pd.DataFrame(data=results, columns=['Accuracy', 'Number Correct', 'Test Size', 'Classifier', 'Model'])\n",
    "df"
   ]
  },
  {
   "cell_type": "code",
   "execution_count": null,
   "metadata": {
    "collapsed": true
   },
   "outputs": [],
   "source": [
    "print(out_string)"
   ]
  },
  {
   "cell_type": "code",
   "execution_count": null,
   "metadata": {
    "collapsed": true
   },
   "outputs": [],
   "source": []
  }
 ],
 "metadata": {
  "kernelspec": {
   "display_name": "Python 3",
   "language": "python",
   "name": "python3"
  },
  "language_info": {
   "codemirror_mode": {
    "name": "ipython",
    "version": 3
   },
   "file_extension": ".py",
   "mimetype": "text/x-python",
   "name": "python",
   "nbconvert_exporter": "python",
   "pygments_lexer": "ipython3",
   "version": "3.6.2"
  }
 },
 "nbformat": 4,
 "nbformat_minor": 2
}
