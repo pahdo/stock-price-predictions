{
 "cells": [
  {
   "cell_type": "code",
   "execution_count": 78,
   "metadata": {
    "collapsed": true
   },
   "outputs": [],
   "source": [
    "from Doc2VecUtils import SentimentDocument\n",
    "from Doc2VecUtils import file_len\n",
    "import os.path"
   ]
  },
  {
   "cell_type": "code",
   "execution_count": 79,
   "metadata": {
    "collapsed": true
   },
   "outputs": [],
   "source": [
    "import gensim.utils\n",
    "def read_corpus_plain(fname):\n",
    "    for line in open(fname, encoding='utf-8'):\n",
    "        # For training data, add tags\n",
    "        tokens = gensim.utils.to_unicode(line).split()\n",
    "        if(len(tokens)==0):\n",
    "            continue\n",
    "        words = tokens[1:]\n",
    "        yield ' '.join(words)"
   ]
  },
  {
   "cell_type": "code",
   "execution_count": 80,
   "metadata": {
    "collapsed": true
   },
   "outputs": [],
   "source": [
    "dirname = 'data_by_returns_small'\n",
    "num_lines_test = file_len(os.path.join(dirname, 'test-pos.txt'))\n",
    "num_lines_test += file_len(os.path.join(dirname, 'test-neg.txt'))\n",
    "num_lines_train = file_len(os.path.join(dirname, 'train-pos.txt'))\n",
    "num_lines_train += file_len(os.path.join(dirname, 'train-neg.txt'))"
   ]
  },
  {
   "cell_type": "code",
   "execution_count": 116,
   "metadata": {
    "collapsed": true
   },
   "outputs": [],
   "source": [
    "from sklearn.feature_extraction.text import TfidfVectorizer\n",
    "import pandas as pd\n",
    "vectorizer = TfidfVectorizer(max_features=300, max_df=0.3, min_df=0.1, sublinear_tf=True)\n",
    "# train_docs = read_corpus_plain(os.path.join(dirname, 'train-all.txt'))\n",
    "# tfidf_matrix = vectorizer.fit_transform(train_docs)\n",
    "# feature_names = vectorizer.get_feature_names()\n",
    "# dense = tfidf_matrix.todense()\n",
    "# denselist = dense.tolist()\n",
    "# df = pd.DataFrame(denselist, columns=feature_names)\n",
    "# df"
   ]
  },
  {
   "cell_type": "code",
   "execution_count": 117,
   "metadata": {
    "collapsed": true
   },
   "outputs": [],
   "source": [
    "from sklearn.manifold import TSNE\n",
    "from matplotlib import pyplot as plt\n",
    "from sklearn.utils import resample\n",
    "from Doc2VecUtils import read_labeled_corpus\n",
    "# subsample = 1.0\n",
    "\n",
    "train_set = read_labeled_corpus(os.path.join(dirname, 'train-pos.txt'), os.path.join(dirname, 'train-neg.txt'), 'train')\n",
    "train_targets, train_words = zip(*[(doc.sentiment, ' '.join(doc.words)) for doc in train_set])\n",
    "train_regressors = vectorizer.fit_transform(train_words).todense().tolist()\n",
    "# train_targets, train_regressors = resample(train_targets, train_regressors, n_samples = int(subsample * num_lines_train))\n",
    "# embedded = TSNE(n_components=2).fit_transform(train_regressors)\n",
    "# vis_x = embedded[:, 0]\n",
    "# vis_y = embedded[:, 1]\n",
    "\n",
    "# plt.scatter(vis_x, vis_y, c=train_targets, cmap=plt.cm.get_cmap(\"Paired\"))\n",
    "# plt.colorbar(ticks=range(2))\n",
    "# plt.title(\"TSNE of Tfidf Vectors\")\n",
    "# plt.show()"
   ]
  },
  {
   "cell_type": "code",
   "execution_count": 118,
   "metadata": {
    "collapsed": true
   },
   "outputs": [],
   "source": [
    "from sklearn import linear_model\n",
    "from sklearn import ensemble\n",
    "from sklearn import svm\n",
    "import numpy as np"
   ]
  },
  {
   "cell_type": "code",
   "execution_count": 119,
   "metadata": {},
   "outputs": [
    {
     "data": {
      "text/html": [
       "<div>\n",
       "<table border=\"1\" class=\"dataframe\">\n",
       "  <thead>\n",
       "    <tr style=\"text-align: right;\">\n",
       "      <th></th>\n",
       "      <th>Accuracy</th>\n",
       "      <th>Number Correct</th>\n",
       "      <th>Test Size</th>\n",
       "      <th>Classifier</th>\n",
       "      <th>Model</th>\n",
       "    </tr>\n",
       "  </thead>\n",
       "  <tbody>\n",
       "    <tr>\n",
       "      <th>0</th>\n",
       "      <td>0.517982</td>\n",
       "      <td>1037</td>\n",
       "      <td>2002</td>\n",
       "      <td>LogisticRegression(C=1.5, class_weight=None, d...</td>\n",
       "      <td>TfidfVectorizer(max_features=300, max_df=0.3, ...</td>\n",
       "    </tr>\n",
       "  </tbody>\n",
       "</table>\n",
       "</div>"
      ],
      "text/plain": [
       "   Accuracy  Number Correct  Test Size  \\\n",
       "0  0.517982            1037       2002   \n",
       "\n",
       "                                          Classifier  \\\n",
       "0  LogisticRegression(C=1.5, class_weight=None, d...   \n",
       "\n",
       "                                               Model  \n",
       "0  TfidfVectorizer(max_features=300, max_df=0.3, ...  "
      ]
     },
     "execution_count": 119,
     "metadata": {},
     "output_type": "execute_result"
    }
   ],
   "source": [
    "results = []\n",
    "#classifiers = [linear_model.LogisticRegression(), ensemble.RandomForestClassifier(), svm.SVC()]\n",
    "classifiers = [linear_model.LogisticRegression(C=1.5)]\n",
    "\n",
    "valid_set = read_labeled_corpus(os.path.join(dirname, 'valid-pos.txt'), os.path.join(dirname, 'valid-neg.txt'), 'valid')\n",
    "valid_targets, valid_words = zip(*[(doc.sentiment, ' '.join(doc.words)) for doc in valid_set])\n",
    "valid_regressors = vectorizer.fit_transform(valid_words).todense().tolist()\n",
    "out_string = \"\"\n",
    "for classifier in classifiers:\n",
    "    classifier.fit(train_regressors, train_targets)\n",
    "    valid_predictions = classifier.predict(valid_regressors)\n",
    "    len_predictions = len(valid_predictions)\n",
    "    corrects = sum(np.rint(valid_predictions) == valid_targets)\n",
    "    errors = len_predictions - corrects\n",
    "    error_rate = float(errors) / len_predictions\n",
    "    err, err_count, valid_count, predictor = error_rate, errors, len_predictions, classifier\n",
    "    results.append((1-err, valid_count-err_count, valid_count, predictor, \"TfidfVectorizer(max_features=300, max_df=0.3, min_df=0.1, sublinear_tf=True)\"))\n",
    "    out_string+=\"Error: {0}; Error Count: {1}; Test Count {2}; Predictor: {3}; Model: {4}\\n\".format(err, err_count, valid_count, predictor, \"TfidfVectorizer(max_features=300, max_df=0.3, min_df=0.1, sublinear_tf=True)\")\n",
    "df = pd.DataFrame(data=results, columns=['Accuracy', 'Number Correct', 'Test Size', 'Classifier', 'Model'])\n",
    "df\n",
    "# Best accuracy: .517982 C=1.5 Tfidf max_features=300 max_df=0.3 min_df=0.1 sublinear_tf=True => Test accuracy=.508390\n",
    "# Best accuracy: .611389 C=1.5 Tfidf max_features=800 max_df=0.3 min_df=0.1 sublinear_tf=True => Test accuracy=.497322"
   ]
  },
  {
   "cell_type": "code",
   "execution_count": 120,
   "metadata": {},
   "outputs": [
    {
     "name": "stdout",
     "output_type": "stream",
     "text": [
      "Error: 0.482017982017982; Error Count: 965; Test Count 2002; Predictor: LogisticRegression(C=1.5, class_weight=None, dual=False, fit_intercept=True,\n",
      "          intercept_scaling=1, max_iter=100, multi_class='ovr', n_jobs=1,\n",
      "          penalty='l2', random_state=None, solver='liblinear', tol=0.0001,\n",
      "          verbose=0, warm_start=False); Model: TfidfVectorizer(max_features=300, max_df=0.3, min_df=0.1, sublinear_tf=True)\n",
      "\n"
     ]
    }
   ],
   "source": [
    "print(out_string)"
   ]
  },
  {
   "cell_type": "code",
   "execution_count": 121,
   "metadata": {},
   "outputs": [
    {
     "data": {
      "text/html": [
       "<div>\n",
       "<table border=\"1\" class=\"dataframe\">\n",
       "  <thead>\n",
       "    <tr style=\"text-align: right;\">\n",
       "      <th></th>\n",
       "      <th>Accuracy</th>\n",
       "      <th>Number Correct</th>\n",
       "      <th>Test Size</th>\n",
       "      <th>Classifier</th>\n",
       "      <th>Model</th>\n",
       "    </tr>\n",
       "  </thead>\n",
       "  <tbody>\n",
       "    <tr>\n",
       "      <th>0</th>\n",
       "      <td>0.50839</td>\n",
       "      <td>1424</td>\n",
       "      <td>2801</td>\n",
       "      <td>LogisticRegression(C=1.5, class_weight=None, d...</td>\n",
       "      <td>TfidfVectorizer(max_features=300, max_df=0.3, ...</td>\n",
       "    </tr>\n",
       "  </tbody>\n",
       "</table>\n",
       "</div>"
      ],
      "text/plain": [
       "   Accuracy  Number Correct  Test Size  \\\n",
       "0   0.50839            1424       2801   \n",
       "\n",
       "                                          Classifier  \\\n",
       "0  LogisticRegression(C=1.5, class_weight=None, d...   \n",
       "\n",
       "                                               Model  \n",
       "0  TfidfVectorizer(max_features=300, max_df=0.3, ...  "
      ]
     },
     "execution_count": 121,
     "metadata": {},
     "output_type": "execute_result"
    }
   ],
   "source": [
    "results = []\n",
    "\n",
    "test_set = read_labeled_corpus(os.path.join(dirname, 'test-pos.txt'), os.path.join(dirname, 'test-neg.txt'), 'test')\n",
    "test_targets, test_words = zip(*[(doc.sentiment, ' '.join(doc.words)) for doc in test_set])\n",
    "test_regressors = vectorizer.fit_transform(test_words).todense().tolist()\n",
    "out_string = \"\"\n",
    "test_predictions = classifier.predict(test_regressors)\n",
    "len_predictions = len(test_predictions)\n",
    "corrects = sum(np.rint(test_predictions) == test_targets)\n",
    "errors = len_predictions - corrects\n",
    "error_rate = float(errors) / len_predictions\n",
    "err, err_count, test_count, predictor = error_rate, errors, len_predictions, classifier\n",
    "results.append((1-err, test_count-err_count, test_count, predictor, \"TfidfVectorizer(max_features=300, max_df=0.3, min_df=0.1, sublinear_tf=True)\"))\n",
    "out_string+=\"Error: {0}; Error Count: {1}; Test Count {2}; Predictor: {3}; Model: {4}\\n\".format(err, err_count, test_count, predictor, \"TfidfVectorizer(max_features=300, max_df=0.3, min_df=0.1, sublinear_tf=True)\")\n",
    "df = pd.DataFrame(data=results, columns=['Accuracy', 'Number Correct', 'Test Size', 'Classifier', 'Model'])\n",
    "df"
   ]
  },
  {
   "cell_type": "code",
   "execution_count": 122,
   "metadata": {},
   "outputs": [
    {
     "name": "stdout",
     "output_type": "stream",
     "text": [
      "Error: 0.4916101392359871; Error Count: 1377; Test Count 2801; Predictor: LogisticRegression(C=1.5, class_weight=None, dual=False, fit_intercept=True,\n",
      "          intercept_scaling=1, max_iter=100, multi_class='ovr', n_jobs=1,\n",
      "          penalty='l2', random_state=None, solver='liblinear', tol=0.0001,\n",
      "          verbose=0, warm_start=False); Model: TfidfVectorizer(max_features=300, max_df=0.3, min_df=0.1, sublinear_tf=True)\n",
      "\n"
     ]
    }
   ],
   "source": [
    "print(out_string)"
   ]
  }
 ],
 "metadata": {
  "kernelspec": {
   "display_name": "Python 3",
   "language": "python",
   "name": "python3"
  },
  "language_info": {
   "codemirror_mode": {
    "name": "ipython",
    "version": 3
   },
   "file_extension": ".py",
   "mimetype": "text/x-python",
   "name": "python",
   "nbconvert_exporter": "python",
   "pygments_lexer": "ipython3",
   "version": "3.6.2"
  }
 },
 "nbformat": 4,
 "nbformat_minor": 2
}
