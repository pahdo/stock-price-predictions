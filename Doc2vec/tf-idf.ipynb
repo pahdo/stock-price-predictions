{
 "cells": [
  {
   "cell_type": "code",
   "execution_count": 20,
   "metadata": {},
   "outputs": [],
   "source": [
    "from Doc2VecUtils import SentimentDocument\n",
    "from Doc2VecUtils import file_len\n",
    "import os.path"
   ]
  },
  {
   "cell_type": "code",
   "execution_count": 21,
   "metadata": {
    "collapsed": true
   },
   "outputs": [],
   "source": [
    "import gensim.utils\n",
    "def read_corpus_plain(fname):\n",
    "    for line in open(fname, encoding='utf-8'):\n",
    "        # For training data, add tags\n",
    "        tokens = gensim.utils.to_unicode(line).split()\n",
    "        if(len(tokens)==0):\n",
    "            continue\n",
    "        words = tokens[1:]\n",
    "        yield ' '.join(words)"
   ]
  },
  {
   "cell_type": "code",
   "execution_count": 22,
   "metadata": {
    "collapsed": true
   },
   "outputs": [],
   "source": [
    "dirname = 'data_small'"
   ]
  },
  {
   "cell_type": "code",
   "execution_count": null,
   "metadata": {},
   "outputs": [],
   "source": [
    "from sklearn.feature_extraction.text import TfidfVectorizer\n",
    "vectorizer = TfidfVectorizer(sublinear_tf=True)\n",
    "train_docs = read_corpus_plain(os.path.join(dirname, 'train-all.txt'))\n",
    "tfidf_matrix = vectorizer.fit_transform([train_doc for train_doc in train_docs])\n",
    "feature_names = vectorizer.get_feature_names()\n",
    "dense = tfidf_matrix.todense()\n",
    "denselist = dense.tolist()\n",
    "df = pd.DataFrame(denselist, columns=feature_names)\n",
    "df[:10]"
   ]
  },
  {
   "cell_type": "code",
   "execution_count": null,
   "metadata": {
    "collapsed": true
   },
   "outputs": [],
   "source": [
    "from sklearn.manifold import TSNE\n",
    "from matplotlib import pyplot as plt\n",
    "from sklearn.utils import resample\n",
    "subsample = 0.1\n",
    "\n",
    "for model in models:\n",
    "    test_set = read_labeled_corpus(os.path.join(dirname, 'test-pos.txt'), os.path.join(dirname, 'test-neg.txt'), 'test')\n",
    "    test_targets, test_regressors = zip(*[(doc.sentiment, model.docvecs[doc.tags[0]]) for doc in test_set])\n",
    "    if subsample < 1.0:\n",
    "        test_targets, test_regressors = resample(test_targets, test_regressors, n_samples = int(subsample * num_lines_test))\n",
    "        embedded = TSNE(n_components=2).fit_transform(test_regressors)\n",
    "        vis_x = embedded[:, 0]\n",
    "        vis_y = embedded[:, 1]\n",
    "\n",
    "        plt.scatter(vis_x, vis_y, c=test_targets, cmap=plt.cm.get_cmap(\"jet\"))\n",
    "        plt.colorbar(ticks=range(2))\n",
    "        plt.clim(-0.5, 1.5)\n",
    "        plt.title(\"TSNE of Test Doc Vecs for Model: %s\".format(str(model)))\n",
    "        plt.show()"
   ]
  }
 ],
 "metadata": {
  "kernelspec": {
   "display_name": "Python 3",
   "language": "python",
   "name": "python3"
  },
  "language_info": {
   "codemirror_mode": {
    "name": "ipython",
    "version": 3
   },
   "file_extension": ".py",
   "mimetype": "text/x-python",
   "name": "python",
   "nbconvert_exporter": "python",
   "pygments_lexer": "ipython3",
   "version": "3.6.2"
  }
 },
 "nbformat": 4,
 "nbformat_minor": 2
}
