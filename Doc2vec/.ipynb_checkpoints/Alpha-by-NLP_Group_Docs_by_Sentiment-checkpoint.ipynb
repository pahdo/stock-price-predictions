{
 "cells": [
  {
   "cell_type": "markdown",
   "metadata": {},
   "source": [
    "Entire process took me about 25 hours to run on ~22k documents. (With some gaps, where my computer was off)"
   ]
  },
  {
   "cell_type": "code",
   "execution_count": 1,
   "metadata": {},
   "outputs": [],
   "source": [
    "with open ('../data/cikTicker.txt') as cikfile:\n",
    "    cikTicker = cikfile.read()  \n",
    "cikTicker = cikTicker.replace('\\n', '')\n",
    "cikTicker = cikTicker.replace('\"', '')\n",
    "cikTicker = cikTicker.replace('\"', '')\n",
    "cikTicker = cikTicker[2:-2].split('}, {')\n",
    "cikdict = dict(s.split(', ') for s in cikTicker)"
   ]
  },
  {
   "cell_type": "code",
   "execution_count": 2,
   "metadata": {},
   "outputs": [
    {
     "name": "stdout",
     "output_type": "stream",
     "text": [
      "0.0660938202179\n",
      "('1628280', '320193', '2016-07-27')\n",
      "True\n"
     ]
    }
   ],
   "source": [
    "import sys\n",
    "sys.path.append('../Database')\n",
    "import getReturns\n",
    "import numpy as np\n",
    "import os\n",
    "\n",
    "results = getReturns.getRets('AAPL', '2016-07-27')\n",
    "print(results[0][3])\n",
    "\n",
    "def parseTxtName(txt):\n",
    "    txt = os.path.basename(txt)\n",
    "    field_num = 1\n",
    "    onZeros = True\n",
    "    cik = ''\n",
    "    date = ''\n",
    "    _ = ''\n",
    "    hitDash = False\n",
    "    date_idx = 0\n",
    "    for i in txt:\n",
    "        if field_num == 1:\n",
    "            if (date_idx == 4 or date_idx == 6):\n",
    "                date += '-'\n",
    "            if i != '_':\n",
    "                date += i\n",
    "            date_idx += 1\n",
    "        if field_num == 6:\n",
    "            if i != '0':\n",
    "                onZeros = False\n",
    "            if i == '-':\n",
    "                hitDash = True\n",
    "            if (not onZeros and not hitDash):\n",
    "                _ += i\n",
    "        if i == '_':\n",
    "            field_num += 1\n",
    "        if field_num == 5:\n",
    "            if i != '_':\n",
    "                cik += i\n",
    "    #while (len(cik) < 10):\n",
    "        #cik = '0' + cik\n",
    "    return _, cik, date\n",
    " \n",
    "test_txt = '20160727_10-Q_edgar_data_320193_0001628280-16-017809_1.txt' # AAPL\n",
    "print(parseTxtName(test_txt))\n",
    "\n",
    "def isPos(txt, cikdict): \n",
    "    _, cik, date = parseTxtName(txt)\n",
    "    return(np.sign(getReturns.getRets(cikdict[cik], date, 4)[0][3])==1.0)\n",
    "    \n",
    "print(isPos(test_txt, cikdict))"
   ]
  },
  {
   "cell_type": "code",
   "execution_count": 3,
   "metadata": {},
   "outputs": [],
   "source": [
    "def isValid(txt, cikdict):\n",
    "    _, cik, date = parseTxtName(txt)\n",
    "    if (cik not in cikdict):\n",
    "        #print(\"cik not in cikdict\")\n",
    "        return False\n",
    "    elif (getReturns.getRets(cikdict[cik], date, 4) == []):\n",
    "        #print(\"query to stock db failed\")\n",
    "        return False\n",
    "    else:\n",
    "        #print(\"valid! wow!\")\n",
    "        return True"
   ]
  },
  {
   "cell_type": "code",
   "execution_count": 4,
   "metadata": {},
   "outputs": [],
   "source": [
    "import shutil\n",
    "\n",
    "folders = ['train/pos', 'train/neg', 'test/pos', 'test/neg', 'train/unsup']\n",
    "for fol in folders:\n",
    "    if not os.path.exists(fol):\n",
    "        os.makedirs(fol)\n",
    "    else:\n",
    "        shutil.rmtree(fol) # Clear old text files\n",
    "        os.makedirs(fol)"
   ]
  },
  {
   "cell_type": "code",
   "execution_count": 5,
   "metadata": {},
   "outputs": [],
   "source": [
    "import glob\n",
    "import random\n",
    "\n",
    "#prefix = '/Users/daniel/Downloads/Versioned/text-analytics-for-accountancy/data/Form_10-Ks/'\n",
    "prefix = '../data/Form_10-Ks/'\n",
    "quarters = ['2016/QTR2', '2016/QTR3', '2016/QTR4']\n",
    "for quarter in quarters:\n",
    "    dirname = os.path.join(prefix, quarter)\n",
    "    txt_files = glob.glob(os.path.join(dirname, '*.txt'))\n",
    "    for txt in txt_files:\n",
    "        rand = random.random()\n",
    "        if (not isValid(txt, cikdict)): # Doesn't appear in the ticker csv\n",
    "            shutil.copy(txt, os.path.join(folders[4], os.path.basename(txt)))\n",
    "        elif (isPos(txt, cikdict) and rand <= 0.8):\n",
    "            shutil.copy(txt, os.path.join(folders[0], os.path.basename(txt)))\n",
    "        elif (isPos(txt, cikdict) and rand > 0.8): \n",
    "            shutil.copy(txt, os.path.join(folders[2], os.path.basename(txt)))\n",
    "        elif (not isPos(txt, cikdict) and rand <= 0.8):\n",
    "            shutil.copy(txt, os.path.join(folders[1], os.path.basename(txt)))\n",
    "        else: # not isPos(txt) and rand > 0.8\n",
    "            shutil.copy(txt, os.path.join(folders[3], os.path.basename(txt)))"
   ]
  },
  {
   "cell_type": "code",
   "execution_count": null,
   "metadata": {
    "collapsed": true
   },
   "outputs": [],
   "source": []
  }
 ],
 "metadata": {
  "kernelspec": {
   "display_name": "Python [default]",
   "language": "python",
   "name": "python3"
  },
  "language_info": {
   "codemirror_mode": {
    "name": "ipython",
    "version": 3
   },
   "file_extension": ".py",
   "mimetype": "text/x-python",
   "name": "python",
   "nbconvert_exporter": "python",
   "pygments_lexer": "ipython3",
   "version": "3.6.1"
  }
 },
 "nbformat": 4,
 "nbformat_minor": 2
}
