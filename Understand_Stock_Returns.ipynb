{
 "cells": [
  {
   "cell_type": "code",
   "execution_count": 13,
   "metadata": {},
   "outputs": [],
   "source": [
    "dirname = 'data/Stock_Returns/Original'\n",
    "filename = 'stocks.csv'\n",
    "timeframe = 9\n",
    "\n",
    "import os.path\n",
    "import csv\n",
    "\n",
    "rows = []\n",
    "with open(os.path.join(dirname, filename), 'r') as csvfile:\n",
    "    csvreader = csv.reader(csvfile, delimiter=',')\n",
    "    for row in csvreader:\n",
    "        rows.append(row)\n",
    "#print(rows)"
   ]
  },
  {
   "cell_type": "code",
   "execution_count": 14,
   "metadata": {},
   "outputs": [],
   "source": [
    "# skip = 0 # SPY.csv\n",
    "skip = 1 # Original/stocks.csv\n",
    "\n",
    "cumulative_returns = [1] * len(rows)\n",
    "for start in range(len(rows)):\n",
    "    # skip first row\n",
    "    if (skip):\n",
    "        skip = 0\n",
    "        continue\n",
    "    for offset in range(timeframe):\n",
    "        if (start+offset >= len(rows)):\n",
    "            break\n",
    "        multiplier = 1+float(rows[start+offset][2])\n",
    "        cumulative_returns[start] *= multiplier\n",
    "#cumulative_returns"
   ]
  },
  {
   "cell_type": "code",
   "execution_count": 16,
   "metadata": {},
   "outputs": [
    {
     "data": {
      "image/png": "[encoded data removed]",
      "text/plain": [
       "<matplotlib.figure.Figure at 0x7f15e4353e10>"
      ]
     },
     "metadata": {},
     "output_type": "display_data"
    }
   ],
   "source": [
    "import numpy as np\n",
    "import matplotlib.mlab as mlab\n",
    "import matplotlib.pyplot as plt\n",
    "num_bins = 10\n",
    "n, bins, patches = plt.hist(cumulative_returns, num_bins, facecolor='blue', alpha=0.5, log = 'y')\n",
    "plt.show()"
   ]
  },
  {
   "cell_type": "code",
   "execution_count": 69,
   "metadata": {},
   "outputs": [],
   "source": [
    "# skip = 0 # SPY.csv\n",
    "skip = 1 # Original/stocks.csv\n",
    "timeframe = 30\n",
    "\n",
    "rows2 = rows[2000000:2100000]\n",
    "cumulative_returns = [1] * len(rows2)\n",
    "for start in range(len(rows2)):\n",
    "    # skip first row\n",
    "    if (skip):\n",
    "        skip = 0\n",
    "        continue\n",
    "    for offset in range(timeframe):\n",
    "        if (start+offset >= len(rows2)):\n",
    "            break\n",
    "        multiplier = 1+float(rows[start+offset][2])\n",
    "        cumulative_returns[start] *= multiplier\n",
    "#cumulative_returns\n"
   ]
  },
  {
   "cell_type": "code",
   "execution_count": 70,
   "metadata": {},
   "outputs": [
    {
     "name": "stdout",
     "output_type": "stream",
     "text": [
      "[1.0729962024620479, 1.0815599768512882, 1.068833542758615, 1.0706526628524085, 1.0773604855301244, 1.0836768826091785, 1.0741968219383995, 1.080092364416267, 1.06147698219183, 1.0645904944731783, 1.065412699008344, 1.056002974023713, 1.0428178967236874, 1.0397774987359496, 1.030495642701347, 1.0088388988765553, 1.0292113635388864, 1.0842731986217147, 1.0913112652657442, 1.0857978735237899, 1.0801072525412432, 1.0611927139322166, 1.047756083578799, 1.020932951291384, 1.0172754599025091, 1.0255174273106324, 1.0302143478605919, 1.0030549818877483, 0.9756450489051841, 0.9123711285927563, 0.9289641322788389, 0.931538912145069, 0.9422513974653771, 0.9513832925257363, 0.9378841822634075, 0.939935345248695, 0.9355903304489951, 0.9279144313726787, 0.956490191975465, 0.9519682618701814, 0.9486303368224162, 0.9557573827429361, 0.9629656897108435, 0.9688530590441964, 0.9761345266042227, 0.9864865451842955, 0.9776580459165028, 0.9732013439296224, 0.9569340125382669, 0.9662806418511722, 0.9770786270138704, 0.9824150493089432, 0.9955459433687107, 1.0256488786236706, 1.0275278210865941, 1.0212619138937324, 1.0042994088293555, 1.0139008118572814, 1.0318277707806593, 1.0713478842399222, 1.0355902380399662, 1.0398083539589047, 1.0327385663028747, 1.016036184822663, 1.0336160454961787, 1.0161093301606636, 1.0183992177492078, 1.031197157147701, 1.0267938929304048, 1.0358876774835508, 1.0416666826235408, 1.0348130212041773, 1.0326061698848754, 1.0166414300296864, 1.0143684879303336, 1.0224295873669285, 0.9972458313903535, 0.9826319522787856, 1.0071098022102705, 1.0106270958273915, 1.0218154491527334, 1.0272225085437112, 1.0336290654414786, 1.0399071659164423, 1.0413554464324428, 1.030776094022426, 1.043956884702214, 1.056997565169746, 1.0399183400643295, 1.0478378089557852, 1.0730016177092456, 1.0580684316730187, 1.0562650712237376, 1.0518803436319237, 1.0528121819006984, 1.058156181776297, 1.0639867529052218, 1.0642325647740352, 1.0499040896385536, 1.0371347472139292]\n"
     ]
    }
   ],
   "source": [
    "print(cumulative_returns[5000:5100])"
   ]
  },
  {
   "cell_type": "code",
   "execution_count": 71,
   "metadata": {},
   "outputs": [
    {
     "data": {
      "image/png": "[encoded data removed]",
      "text/plain": [
       "<matplotlib.figure.Figure at 0x7f15bbce2ef0>"
      ]
     },
     "metadata": {},
     "output_type": "display_data"
    }
   ],
   "source": [
    "import seaborn as sns, numpy as np\n",
    "sns.set();\n",
    "ax = sns.distplot(np.array(cumulative_returns[:10000]), bins=500)\n",
    "ax.set_xlim(0.3,2)\n",
    "plt.show()"
   ]
  },
  {
   "cell_type": "code",
   "execution_count": 72,
   "metadata": {},
   "outputs": [
    {
     "name": "stdout",
     "output_type": "stream",
     "text": [
      "neg: 41701 pos: 58299\n"
     ]
    }
   ],
   "source": [
    "neg = 0\n",
    "pos = 0\n",
    "for ret in cumulative_returns:\n",
    "    if ret <= 1:\n",
    "        neg+=1\n",
    "    else:\n",
    "        pos+=1\n",
    "print(\"neg: {} pos: {}\".format(neg, pos))"
   ]
  },
  {
   "cell_type": "code",
   "execution_count": 106,
   "metadata": {},
   "outputs": [],
   "source": [
    "import sqlite3\n",
    "import glob\n",
    "import re\n",
    "import getReturns\n",
    "mode = 1\n",
    "conn = sqlite3.connect('Database/stocks.db')\n",
    "form10KPath = '../GROUP_SHARED/data/10K/10-X_C/'\n",
    "cikTickerPath = '../GROUP_SHARED/data/10K/10-X_C/cikTicker.txt'\n",
    "with open(cikTickerPath) as cikfile:\n",
    "    cikTicker = cikfile.read()  \n",
    "cikTicker = cikTicker.replace('\\n', '')\n",
    "cikTicker = cikTicker.replace('\"', '')\n",
    "cikTicker = cikTicker.replace('\"', '')\n",
    "cikTicker = cikTicker[2:-2].split('}, {')\n",
    "cikdict = dict(s.split(', ') for s in cikTicker)\n",
    "def parseTxtName(txt):\n",
    "    txt = os.path.basename(txt)\n",
    "    pattern = \"edgar_data_(.*?)_\"\n",
    "    m = re.search(pattern, txt)\n",
    "    if m:\n",
    "        cik = m.group(1)\n",
    "    pattern = \"(\\d{8})_\"\n",
    "    m = re.search(pattern, txt)\n",
    "    if m:\n",
    "        date = m.group(1)\n",
    "    date = '{}-{}-{}'.format(date[0:4], date[4:6], date[6:])\n",
    "    return cik, date\n",
    "def isPos(txt, cikdict, mode): \n",
    "    cik, date = parseTxtName(txt)\n",
    "    if cik in cikdict:\n",
    "        if (mode == 0):\n",
    "            ret = getReturns.getRets(conn, cikdict[cik], date, 4) \n",
    "        elif (mode == 1):\n",
    "            ret = getReturns.getTotalRet(conn, cikdict[cik], date, 30)\n",
    "        elif (mode == 2):\n",
    "            stock_ret = getReturns.getTotalRet(conn, cikdict[cik], dateSubtract(date, 4), 9)\n",
    "            spy_ret = getReturns.getTotalRet(conn, 'SPY', dateSubtract(date, 4), 9)\n",
    "            alpha = getReturns.getRets(conn, cikdict[cik], date)[0][3]\n",
    "            ret = stock_ret - spy_ret * alpha\n",
    "            print(\"stock_ret = {}\".format(stock_ret))\n",
    "            print(\"spy_ret = {}\".format(spy_ret))\n",
    "            print(\"ret/cum. alpha = {}\".format(ret))\n",
    "    else:\n",
    "        #print('not in cikdict')\n",
    "        raise Exception('Not in cikDict')\n",
    "    if (mode == 0):\n",
    "        if (len(ret) != 0): \n",
    "            return(np.sign(ret[0][3])==1.0)\n",
    "        else:            \n",
    "            print('exception')\n",
    "            raise Exception('Query failed')\n",
    "    elif (mode == 1):\n",
    "        if (ret == 0.0):\n",
    "            return 0\n",
    "        elif (ret < -1.0):\n",
    "            return -2\n",
    "        elif (ret < -0.1):\n",
    "            return -1\n",
    "        elif (ret < 0.1):\n",
    "            return 1\n",
    "        elif (ret < 1.0):\n",
    "            return 2\n",
    "        else:\n",
    "            return 3\n",
    "    elif (mode == 2):\n",
    "        if (ret < -3.0):\n",
    "            return -2\n",
    "        elif (ret < -0.5):\n",
    "            return -1\n",
    "        elif (ret < 0.5):\n",
    "            return 0\n",
    "        elif (ret < 3.0):\n",
    "            return 1\n",
    "        else:\n",
    "            return 2\n",
    "\"\"\"\n",
    "quarters = ['2013/QTR2', '2013/QTR3', '2013/QTR4', \n",
    "            '2012/QTR1', '2012/QTR2', '2012/QTR3', '2012/QTR4', \n",
    "            '2011/QTR1', '2011/QTR2', '2011/QTR3', '2011/QTR4', \n",
    "            '2010/QTR1', '2010/QTR2', '2010/QTR3', '2010/QTR4', \n",
    "            '2009/QTR1', '2009/QTR2', '2009/QTR3', '2009/QTR4', \n",
    "            '2008/QTR1', '2008/QTR2', '2008/QTR3', '2008/QTR4', \n",
    "            '2007/QTR1', '2007/QTR2', '2007/QTR3', '2007/QTR4', \n",
    "            '2006/QTR1', '2006/QTR2', '2006/QTR3', '2006/QTR4', \n",
    "            '2005/QTR1', '2005/QTR2', '2005/QTR3', '2005/QTR4', \n",
    "            '2004/QTR1', '2004/QTR2', '2004/QTR3', '2004/QTR4', \n",
    "            '2003/QTR1', '2003/QTR2', '2003/QTR3', '2003/QTR4', \n",
    "            '2002/QTR1', '2002/QTR2', '2002/QTR3', '2002/QTR4', \n",
    "            '2001/QTR1', '2001/QTR2', '2001/QTR3', '2001/QTR4', \n",
    "            '2000/QTR1', '2000/QTR2', '2000/QTR3', '2000/QTR4', \n",
    "            '1999/QTR1', '1999/QTR2', '1999/QTR3', '1999/QTR4', \n",
    "            '1998/QTR1', '1998/QTR2', '1998/QTR3', '1998/QTR4', \n",
    "            '1997/QTR1', '1997/QTR2', '1997/QTR3', '1997/QTR4', \n",
    "            '1996/QTR1', '1996/QTR2', '1996/QTR3', '1996/QTR4', \n",
    "            '1995/QTR1', '1995/QTR2', '1995/QTR3', '1995/QTR4',\n",
    "            '1994/QTR1', '1994/QTR2', '1994/QTR3', '1994/QTR4']\n",
    "\"\"\"\n",
    "quarters = ['2012/QTR1']\n",
    "pos =0\n",
    "neg =0\n",
    "unsupervised =0\n",
    "neutral = 0\n",
    "for quarter in quarters:\n",
    "    dirname = os.path.join(form10KPath, quarter)\n",
    "    txt_files = glob.glob(os.path.join(dirname, '*.txt'))\n",
    "    for txt in txt_files:\n",
    "        try:\n",
    "            result = isPos(txt, cikdict, mode)\n",
    "            if (result == 0):\n",
    "                unsupervised+=1\n",
    "            elif (result > 1):\n",
    "                pos+=1\n",
    "            elif (result == 1):\n",
    "                neutral += 1\n",
    "            else:\n",
    "                neg+=1\n",
    "        except Exception as ex:\n",
    "            #print(ex)\n",
    "            continue"
   ]
  },
  {
   "cell_type": "code",
   "execution_count": 107,
   "metadata": {},
   "outputs": [
    {
     "name": "stdout",
     "output_type": "stream",
     "text": [
      "unsupervised: 5062 neutral: 1201 neg: 150 pos: 240\n"
     ]
    }
   ],
   "source": [
    "print(\"unsupervised: {} neutral: {} neg: {} pos: {}\".format(unsupervised, neutral, neg, pos))"
   ]
  },
  {
   "cell_type": "code",
   "execution_count": null,
   "metadata": {},
   "outputs": [],
   "source": []
  }
 ],
 "metadata": {
  "kernelspec": {
   "display_name": "Python 3",
   "language": "python",
   "name": "python3"
  },
  "language_info": {
   "codemirror_mode": {
    "name": "ipython",
    "version": 3
   },
   "file_extension": ".py",
   "mimetype": "text/x-python",
   "name": "python",
   "nbconvert_exporter": "python",
   "pygments_lexer": "ipython3",
   "version": "3.6.3"
  }
 },
 "nbformat": 4,
 "nbformat_minor": 2
}
