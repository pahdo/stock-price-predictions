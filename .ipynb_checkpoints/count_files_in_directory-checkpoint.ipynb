{
 "cells": [
  {
   "cell_type": "markdown",
   "metadata": {},
   "source": [
    "Command to move files to data_small  \n",
    "`cd text-analytics-for-accountancy/Doc2Vec/data/train/pos`  \n",
    "`ls -1 | sort -n | head -1000 | xargs -i mv \"{}\" ../../../data_small/valid/pos`"
   ]
  },
  {
   "cell_type": "code",
   "execution_count": null,
   "metadata": {},
   "outputs": [],
   "source": [
    "paths = ['text-analytics-for-accountancy/Doc2Vec/data_by_returns_small/pos',\n",
    "         'text-analytics-for-accountancy/Doc2Vec/data_by_returns_small/neg',\n",
    "         'text-analytics-for-accountancy/Doc2Vec/data_by_returns/pos',\n",
    "         'text-analytics-for-accountancy/Doc2Vec/data_by_returns/neg',\n",
    "         'text-analytics-for-accountancy/Doc2Vec/data/pos',\n",
    "         'text-analytics-for-accountancy/Doc2Vec/data/neg',\n",
    "         'text-analytics-for-accountancy/Doc2Vec/data_small/pos',\n",
    "         'text-analytics-for-accountancy/Doc2Vec/data_small/neg']\n",
    "import os.path\n",
    "for path in paths:\n",
    "    num_files = len([f for f in os.listdir(path)\n",
    "                    if os.path.isfile(os.path.join(path, f))])\n",
    "    print(num_files)"
   ]
  },
  {
   "cell_type": "code",
   "execution_count": null,
   "metadata": {
    "collapsed": true
   },
   "outputs": [],
   "source": []
  },
  {
   "cell_type": "code",
   "execution_count": null,
   "metadata": {
    "collapsed": true
   },
   "outputs": [],
   "source": []
  }
 ],
 "metadata": {
  "kernelspec": {
   "display_name": "Python 3",
   "language": "python",
   "name": "python3"
  },
  "language_info": {
   "codemirror_mode": {
    "name": "ipython",
    "version": 3
   },
   "file_extension": ".py",
   "mimetype": "text/x-python",
   "name": "python",
   "nbconvert_exporter": "python",
   "pygments_lexer": "ipython3",
   "version": "3.6.2"
  }
 },
 "nbformat": 4,
 "nbformat_minor": 2
}
