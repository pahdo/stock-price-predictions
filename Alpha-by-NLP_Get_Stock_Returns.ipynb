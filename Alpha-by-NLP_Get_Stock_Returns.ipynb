{
 "cells": [
  {
   "cell_type": "markdown",
   "metadata": {},
   "source": [
    "# Alpha by NLP: Defining functions to get stock returns\n",
    "In this notebook, we will define two functions:  \n",
    "`getRet(symbol, date, horizon, subtract)` and `getTotalRet(symbol,date,horizon, subtract)`.\n",
    "\n",
    "Suppose we have a .csv file with schema  \n",
    "`   0      1      2      3      4      5      6      7      8      9      10`  \n",
    "`Date   Symbol Return                                    Alpha`\n",
    "\n",
    "`getRet()` returns a list of daily returns `[.05, .03, -.01, -.01, .02]`\n",
    "\n",
    "`getTotalRet()` returns the total return, i.e. the return you get if you put in $1 at the start date and sold at the end date `(start date + horizon - 1)` \n",
    "* Note that `(1+avg(rets)) ** n != getTotalRet(n)` where n is the number of days"
   ]
  },
  {
   "cell_type": "code",
   "execution_count": 2,
   "metadata": {},
   "outputs": [],
   "source": [
    "import csv\n",
    "from datetime import datetime, timedelta\n",
    "import numpy as np\n",
    "import os.path\n",
    "\n",
    "dirname = 'data'\n",
    "dirname2 = 'Stock_Returns'\n",
    "dateformat = '%Y-%M-%d'\n",
    "\n",
    "def getRets(symbol, date, horizon=1, subtract=False):\n",
    "    \"\"\"\n",
    "    Assumed csv schema is:\n",
    "    0      1      2      3      4      5      6      7      8      9      10\n",
    "    Date   Symbol Return                                    Alpha\n",
    "    \"\"\"\n",
    "    some_dates = []\n",
    "    the_date1 = datetime.strptime(date, dateformat)\n",
    "    for i in range(horizon):\n",
    "        the_date2 = the_date1 + timedelta(days=i)\n",
    "        some_dates.append(the_date2)\n",
    "        \n",
    "    with open(os.path.join(dirname, dirname2, 'Stocks_Plus_Alphas.csv'), 'rt') as csvfile:\n",
    "        reader = csv.reader(csvfile, delimiter=',')\n",
    "        matching_rows = []\n",
    "        for row in reader:\n",
    "            if(row[0] == 'Date'):\n",
    "                pass\n",
    "            else:\n",
    "                date1 = datetime.strptime(row[0], dateformat)\n",
    "                if (date1 in some_dates and row[1] == symbol):\n",
    "                    if (subtract):\n",
    "                        matching_rows.append([row[0], row[1], row[8]])\n",
    "                    else:\n",
    "                        matching_rows.append([row[0], row[1], row[2]])\n",
    "    return matching_rows\n",
    "\n",
    "def getTotalRet(symbol, date, horizon=1, subtract=False):\n",
    "    rets = getRets(symbol, date, horizon, subtract)\n",
    "    the_rets = []\n",
    "    for ret in rets:\n",
    "        the_rets.append(ret[2])\n",
    "    return np.product([1 + float(the_ret) for the_ret in the_rets])-1"
   ]
  },
  {
   "cell_type": "markdown",
   "metadata": {},
   "source": [
    "## Getting a list of returns for a stock\n",
    "Let's try to get a list of returns starting at 8/19/99 for BBY (Blackberry) and ending 5 days later -  \n",
    "Observe that weekends and holidays are omitted."
   ]
  },
  {
   "cell_type": "code",
   "execution_count": 3,
   "metadata": {},
   "outputs": [
    {
     "name": "stdout",
     "output_type": "stream",
     "text": [
      "Total running time:  122.63690700000001\n",
      "[['1999-08-19', 'BBY', '-0.0135379061372'], ['1999-08-20', 'BBY', '0.0631290027447'], ['1999-08-23', 'BBY', '-0.0275387263339']]\n"
     ]
    }
   ],
   "source": [
    "import time\n",
    "start = time.clock()\n",
    "\n",
    "ans = getRets('BBY', '1999-08-19', 5)\n",
    "\n",
    "end = time.clock()\n",
    "print (\"Total running time: \", end-start)\n",
    "print(ans)"
   ]
  },
  {
   "cell_type": "markdown",
   "metadata": {},
   "source": [
    "## Getting total return for a stock\n",
    "Now, let's see our total return for BBY if we opened a position on 8/19/99 and closed it 5 days later."
   ]
  },
  {
   "cell_type": "code",
   "execution_count": 4,
   "metadata": {},
   "outputs": [
    {
     "name": "stdout",
     "output_type": "stream",
     "text": [
      "Total running time:  121.06313000000002\n",
      "0.0198555956678\n"
     ]
    }
   ],
   "source": [
    "start = time.clock()\n",
    "\n",
    "ans = getTotalRet('BBY', '1999-08-19', 5)\n",
    "\n",
    "end = time.clock()\n",
    "print (\"Total running time: \", end-start)\n",
    "print(ans)"
   ]
  },
  {
   "cell_type": "markdown",
   "metadata": {},
   "source": [
    "## Getting a list of alphas for a stock\n",
    "Note that `return_stock = beta * return_S&P500 + alpha`  \n",
    "For more information, refer to <a href=\"http://www.investopedia.com/terms/c/capm.asp\">Capital Asset Pricing Model (CAPM)</a> theory.  \n",
    "Let's get a list of alphas for BBY."
   ]
  },
  {
   "cell_type": "code",
   "execution_count": 5,
   "metadata": {},
   "outputs": [
    {
     "name": "stdout",
     "output_type": "stream",
     "text": [
      "Total running time:  129.63147700000002\n",
      "[['1999-08-19', 'BBY', '-0.00441569637804'], ['1999-08-20', 'BBY', '0.0518291598365'], ['1999-08-23', 'BBY', '-0.0488717576021']]\n"
     ]
    }
   ],
   "source": [
    "start = time.clock()\n",
    "\n",
    "ans = getRets('BBY', '1999-08-19', 5, subtract=True)\n",
    "\n",
    "end = time.clock()\n",
    "print (\"Total running time: \", end-start)\n",
    "print(ans)"
   ]
  },
  {
   "cell_type": "markdown",
   "metadata": {},
   "source": [
    "## Getting total cumulative alpha for stock\n",
    "Note: this value is not necessarily meaningful.\n",
    "Just for fun, let's get \"total cumulative alpha\" for a stock -"
   ]
  },
  {
   "cell_type": "code",
   "execution_count": 6,
   "metadata": {},
   "outputs": [
    {
     "name": "stdout",
     "output_type": "stream",
     "text": [
      "Total running time:  122.89870100000002\n",
      "-0.00399315039018\n"
     ]
    }
   ],
   "source": [
    "start = time.clock()\n",
    "\n",
    "ans = getTotalRet('BBY', '1999-08-19', 5, subtract=True)\n",
    "\n",
    "end = time.clock()\n",
    "print (\"Total running time: \", end-start)\n",
    "print(ans)"
   ]
  },
  {
   "cell_type": "code",
   "execution_count": null,
   "metadata": {
    "collapsed": true
   },
   "outputs": [],
   "source": []
  }
 ],
 "metadata": {
  "kernelspec": {
   "display_name": "Python 3",
   "language": "python",
   "name": "python3"
  },
  "language_info": {
   "codemirror_mode": {
    "name": "ipython",
    "version": 3
   },
   "file_extension": ".py",
   "mimetype": "text/x-python",
   "name": "python",
   "nbconvert_exporter": "python",
   "pygments_lexer": "ipython3",
   "version": "3.6.2"
  }
 },
 "nbformat": 4,
 "nbformat_minor": 2
}
