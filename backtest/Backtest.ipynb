{
 "cells": [
  {
   "cell_type": "markdown",
   "metadata": {},
   "source": [
    "# Quantopian Zipline\n",
    "Backtesting"
   ]
  },
  {
   "cell_type": "code",
   "execution_count": 11,
   "metadata": {
    "collapsed": false
   },
   "outputs": [
    {
     "name": "stdout",
     "output_type": "stream",
     "text": [
      "Collecting zipline\n",
      "  Using cached https://files.pythonhosted.org/packages/15/d3/689f2a940478b82ac57c751a40460598221fd82b0449a7a8f7eef47a3bcc/zipline-1.2.0.tar.gz\n",
      "Requirement already satisfied: pip>=7.1.0 in /usr/local/lib/python3.5/dist-packages (from zipline)\n",
      "Requirement already satisfied: setuptools>18.0 in /usr/lib/python3/dist-packages (from zipline)\n",
      "Collecting Logbook>=0.12.5 (from zipline)\n",
      "  Using cached https://files.pythonhosted.org/packages/45/ee/5d3dadc7bca4723ccd9c9ec22ed1f1f8f2cc80b9c1405760ee9a1ab1477d/Logbook-1.3.2.tar.gz\n",
      "Collecting pytz>=2016.4 (from zipline)\n",
      "  Using cached https://files.pythonhosted.org/packages/dc/83/15f7833b70d3e067ca91467ca245bae0f6fe56ddc7451aa0dc5606b120f2/pytz-2018.4-py2.py3-none-any.whl\n",
      "Requirement already satisfied: numpy>=1.11.1 in /usr/local/lib/python3.5/dist-packages (from zipline)\n",
      "Collecting requests-file>=1.4.1 (from zipline)\n",
      "  Using cached https://files.pythonhosted.org/packages/23/9c/6e63c23c39e53d3df41c77a3d05a49a42c4e1383a6d2a5e3233161b89dbf/requests_file-1.4.3-py2.py3-none-any.whl\n",
      "Requirement already satisfied: scipy>=0.17.1 in /usr/local/lib/python3.5/dist-packages (from zipline)\n",
      "Requirement already satisfied: pandas<0.19,>=0.18.1 in /usr/local/lib/python3.5/dist-packages (from zipline)\n",
      "Collecting pandas-datareader<0.6,>=0.2.1 (from zipline)\n",
      "  Using cached https://files.pythonhosted.org/packages/40/c5/cc720f531bbde0efeab940de400d0fcc95e87770a3abcd7f90d6d52a3302/pandas_datareader-0.5.0-py2.py3-none-any.whl\n",
      "Collecting patsy>=0.4.0 (from zipline)\n",
      "  Using cached https://files.pythonhosted.org/packages/5d/eb/92c4b45ca47a2dd1339c958636e083b50ffadb5162a599a1cbbe92f89832/patsy-0.5.0-py2.py3-none-any.whl\n",
      "Collecting statsmodels>=0.6.1 (from zipline)\n",
      "  Using cached https://files.pythonhosted.org/packages/ea/43/ebd8a880fc3153e8f926d0749d26eca674401c986c76f99b0a248996da35/statsmodels-0.8.0-cp35-cp35m-manylinux1_x86_64.whl\n",
      "Requirement already satisfied: python-dateutil>=2.4.2 in /usr/lib/python3/dist-packages (from zipline)\n",
      "Requirement already satisfied: six>=1.10.0 in /usr/local/lib/python3.5/dist-packages (from zipline)\n",
      "Requirement already satisfied: requests>=2.9.1 in /usr/local/lib/python3.5/dist-packages (from zipline)\n",
      "Collecting Cython>=0.25.2 (from zipline)\n",
      "  Using cached https://files.pythonhosted.org/packages/c1/40/4be8161a4b8772070c2b72259911d59e09d2044bab460816a9b4ac14be89/Cython-0.28.1-cp35-cp35m-manylinux1_x86_64.whl\n",
      "Collecting cyordereddict>=0.2.2 (from zipline)\n",
      "  Using cached https://files.pythonhosted.org/packages/d1/1a/364cbfd927be1b743c7f0a985a7f1f7e8a51469619f9fefe4ee9240ba210/cyordereddict-1.0.0.tar.gz\n",
      "Collecting bottleneck>=1.0.0 (from zipline)\n",
      "  Using cached https://files.pythonhosted.org/packages/05/ae/cedf5323f398ab4e4ff92d6c431a3e1c6a186f9b41ab3e8258dff786a290/Bottleneck-1.2.1.tar.gz\n",
      "Collecting contextlib2>=0.4.0 (from zipline)\n",
      "  Using cached https://files.pythonhosted.org/packages/a2/71/8273a7eeed0aff6a854237ab5453bc9aa67deb49df4832801c21f0ff3782/contextlib2-0.5.5-py2.py3-none-any.whl\n",
      "Requirement already satisfied: decorator>=4.0.0 in /usr/lib/python3/dist-packages (from zipline)\n",
      "Collecting networkx<2.0,>=1.9.1 (from zipline)\n",
      "  Using cached https://files.pythonhosted.org/packages/d3/2c/e473e54afc9fae58dfa97066ef6709a7e35a1dd1c28c5a3842989322be00/networkx-1.11-py2.py3-none-any.whl\n",
      "Collecting numexpr>=2.6.1 (from zipline)\n",
      "  Using cached https://files.pythonhosted.org/packages/8e/26/aa04c6eb25f32669475ddeaa0b41884d88475dc7a7596fe1d5062c532ac9/numexpr-2.6.4-cp35-cp35m-manylinux1_x86_64.whl\n",
      "Collecting bcolz<1,>=0.12.1 (from zipline)\n",
      "  Using cached https://files.pythonhosted.org/packages/6c/8b/1ffa01f872cac36173c5eb95b58c01040d8d25f1b242c48577f4104cd3ab/bcolz-0.12.1.tar.gz\n",
      "Collecting click>=4.0.0 (from zipline)\n",
      "  Downloading https://files.pythonhosted.org/packages/34/c1/8806f99713ddb993c5366c362b2f908f18269f8d792aff1abfd700775a77/click-6.7-py2.py3-none-any.whl (71kB)\n",
      "\u001b[K    100% |████████████████████████████████| 71kB 5.1MB/s \n",
      "\u001b[?25hRequirement already satisfied: toolz>=0.8.2 in /usr/local/lib/python3.5/dist-packages (from zipline)\n",
      "Collecting multipledispatch>=0.4.8 (from zipline)\n",
      "  Downloading https://files.pythonhosted.org/packages/d1/0d/0d51971308af74de1a3a66e52cb518cb14c3fa9b0c6736105eacf77d2d09/multipledispatch-0.5.0-py2.py3-none-any.whl\n",
      "Requirement already satisfied: MarkupSafe>=0.23 in /usr/lib/python3/dist-packages (from zipline)\n",
      "Collecting Mako>=1.0.1 (from zipline)\n",
      "  Downloading https://files.pythonhosted.org/packages/eb/f3/67579bb486517c0d49547f9697e36582cd19dafb5df9e687ed8e22de57fa/Mako-1.0.7.tar.gz (564kB)\n",
      "\u001b[K    100% |████████████████████████████████| 573kB 2.3MB/s \n",
      "\u001b[?25hCollecting sqlalchemy>=1.0.8 (from zipline)\n",
      "  Downloading https://files.pythonhosted.org/packages/da/ef/f10a6892f8ff3c1fec1c25699a7379d1f72f291c8fa40b71c31cab3f779e/SQLAlchemy-1.2.6.tar.gz (5.6MB)\n",
      "\u001b[K    100% |████████████████████████████████| 5.6MB 280kB/s \n",
      "\u001b[?25hCollecting alembic>=0.7.7 (from zipline)\n",
      "  Downloading https://files.pythonhosted.org/packages/89/03/756d5b8e1c90bf283c3f435766aa3f20208d1c3887579dd8f2122e01d5f4/alembic-0.9.9.tar.gz (1.0MB)\n",
      "\u001b[K    100% |████████████████████████████████| 1.0MB 1.5MB/s \n",
      "\u001b[?25hCollecting sortedcontainers>=1.4.4 (from zipline)\n",
      "  Downloading https://files.pythonhosted.org/packages/ea/67/c76c354ff30a689aeb2c75c4d383ae618c27fc2180d313f387f8918a3429/sortedcontainers-1.5.9-py2.py3-none-any.whl\n",
      "Collecting intervaltree>=2.1.0 (from zipline)\n",
      "  Downloading https://files.pythonhosted.org/packages/ca/c1/450d109b70fa58ca9d77972b02f69222412f9175ccf99fdeaf167be9583c/intervaltree-2.1.0.tar.gz\n",
      "Collecting lru-dict>=1.1.4 (from zipline)\n",
      "  Downloading https://files.pythonhosted.org/packages/00/a5/32ed6e10246cd341ca8cc205acea5d208e4053f48a4dced2b1b31d45ba3f/lru-dict-1.1.6.tar.gz\n",
      "Collecting empyrical>=0.4.2 (from zipline)\n",
      "  Downloading https://files.pythonhosted.org/packages/72/fa/9f0ef008447a28ffd3c9b11446a4fedec1fdf2165e0ec4dfffb03a618e81/empyrical-0.4.2-py3-none-any.whl\n",
      "Collecting tables>=3.3.0 (from zipline)\n",
      "  Downloading https://files.pythonhosted.org/packages/90/72/75fa5a29e209951bd6ff991b76038022407aa22a09b74fe3618b25fa70c9/tables-3.4.2-3-cp35-cp35m-manylinux1_x86_64.whl (4.6MB)\n",
      "\u001b[K    100% |████████████████████████████████| 4.6MB 339kB/s \n",
      "\u001b[?25hCollecting requests-ftp (from pandas-datareader<0.6,>=0.2.1->zipline)\n",
      "  Downloading https://files.pythonhosted.org/packages/3d/ca/14b2ad1e93b5195eeaf56b86b7ecfd5ea2d5754a68d17aeb1e5b9f95b3cf/requests-ftp-0.3.1.tar.gz\n",
      "Requirement already satisfied: certifi>=2017.4.17 in /usr/local/lib/python3.5/dist-packages (from requests>=2.9.1->zipline)\n",
      "Requirement already satisfied: chardet<3.1.0,>=3.0.2 in /usr/local/lib/python3.5/dist-packages (from requests>=2.9.1->zipline)\n",
      "Requirement already satisfied: idna<2.7,>=2.5 in /usr/local/lib/python3.5/dist-packages (from requests>=2.9.1->zipline)\n",
      "Requirement already satisfied: urllib3<1.23,>=1.21.1 in /usr/local/lib/python3.5/dist-packages (from requests>=2.9.1->zipline)\n",
      "Collecting python-editor>=0.3 (from alembic>=0.7.7->zipline)\n",
      "  Downloading https://files.pythonhosted.org/packages/65/1e/adf6e000ea5dc909aa420352d6ba37f16434c8a3c2fa030445411a1ed545/python-editor-1.0.3.tar.gz\n",
      "Building wheels for collected packages: zipline, Logbook, cyordereddict, bottleneck, bcolz, Mako, sqlalchemy, alembic, intervaltree, lru-dict, requests-ftp, python-editor\n",
      "  Running setup.py bdist_wheel for zipline ... \u001b[?25l-\b \b\\\b \b|\b \b/\b \b-\b \b\\\b \b|\b \b/\b \b-\b \b\\\b \b|\b \b/\b \b-\b \b\\\b \b|\b \b/\b \b-\b \b\\\b \b|\b \b/\b \b-\b \b\\\b \b|\b \b/\b \b-\b \b\\\b \b|\b \b/\b \b-\b \b\\\b \b|\b \b/\b \b-\b \b\\\b \b|\b \b/\b \b-\b \b\\\b \b|\b \b/\b \b-\b \b\\\b \bdone\n",
      "\u001b[?25h  Stored in directory: /root/.cache/pip/wheels/5d/20/7d/b48368c8634b1cb6cc7232833b2780a265d4217c0ad2e3d24c\n",
      "  Running setup.py bdist_wheel for Logbook ... \u001b[?25l-\b \b\\\b \bdone\n",
      "\u001b[?25h  Stored in directory: /root/.cache/pip/wheels/9b/3e/bd/83a027789b0c4a44aa49447b6b7edc5407dc6502cbeba2eba6\n",
      "  Running setup.py bdist_wheel for cyordereddict ... \u001b[?25l-\b \b\\\b \bdone\n",
      "\u001b[?25h  Stored in directory: /root/.cache/pip/wheels/0b/9d/8b/5bf3e22c1edd59b50f11bb19dec9dfcfe5a479fc7ace02b61f\n",
      "  Running setup.py bdist_wheel for bottleneck ... \u001b[?25l-\b \b\\\b \b|\b \b/\b \b-\b \b\\\b \b|\b \bdone\n",
      "\u001b[?25h  Stored in directory: /root/.cache/pip/wheels/f2/bf/ec/e0f39aa27001525ad455139ee57ec7d0776fe074dfd78c97e4\n",
      "  Running setup.py bdist_wheel for bcolz ... \u001b[?25l-\b \b\\\b \b|\b \b/\b \b-\b \b\\\b \b|\b \b/\b \b-\b \b\\\b \b|\b \b/\b \b-\b \b\\\b \b|\b \b/\b \b-\b \b\\\b \b|\b \b/\b \b-\b \b\\\b \b|\b \b/\b \bdone\n",
      "\u001b[?25h  Stored in directory: /root/.cache/pip/wheels/c5/cc/1b/2cf1f88959af5d7f4d449b7fc6c9452d0ecbd86fd61a9ee376\n",
      "  Running setup.py bdist_wheel for Mako ... \u001b[?25l-\b \b\\\b \bdone\n",
      "\u001b[?25h  Stored in directory: /root/.cache/pip/wheels/15/35/25/dbcb848832ccb1a4b4ad23f529badfd3bce9bf88017f7ca510\n",
      "  Running setup.py bdist_wheel for sqlalchemy ... \u001b[?25l-\b \b\\\b \b|\b \b/\b \b-\b \bdone\n",
      "\u001b[?25h  Stored in directory: /root/.cache/pip/wheels/94/cf/6a/25ec92b28e3dc56f70ae1383b30ac5b1904d074b86933e181b\n",
      "  Running setup.py bdist_wheel for alembic ... \u001b[?25l-\b \b\\\b \bdone\n",
      "\u001b[?25h  Stored in directory: /root/.cache/pip/wheels/a4/8c/02/3d1795469c7fa5754f12da16847f0dc8748139edba921d8d46\n",
      "  Running setup.py bdist_wheel for intervaltree ... \u001b[?25l-\b \b\\\b \b|\b \bdone\n",
      "\u001b[?25h  Stored in directory: /root/.cache/pip/wheels/6b/cf/b0/f7ef2d0f504d26f3e9e70c2369e5725591ccfaf67d528fcbc5\n",
      "  Running setup.py bdist_wheel for lru-dict ... \u001b[?25l-\b \b\\\b \bdone\n",
      "\u001b[?25h  Stored in directory: /root/.cache/pip/wheels/b7/ef/06/fbdd555907a7d438fb33e4c8675f771ff1cf41917284c51ebf\n",
      "  Running setup.py bdist_wheel for requests-ftp ... \u001b[?25l-\b \b\\\b \bdone\n",
      "\u001b[?25h  Stored in directory: /root/.cache/pip/wheels/2a/98/32/37195e45a3392a73d9f65c488cbea30fe5bad76aaef4d6b020\n",
      "  Running setup.py bdist_wheel for python-editor ... \u001b[?25l-\b \bdone\n",
      "\u001b[?25h  Stored in directory: /root/.cache/pip/wheels/36/e0/98/ba386b125a00ea9dd52e2c16aa2ec0adbbd639b84bfe2e001d\n",
      "Successfully built zipline Logbook cyordereddict bottleneck bcolz Mako sqlalchemy alembic intervaltree lru-dict requests-ftp python-editor\n",
      "Installing collected packages: Logbook, pytz, requests-file, requests-ftp, pandas-datareader, patsy, statsmodels, Cython, cyordereddict, bottleneck, contextlib2, networkx, numexpr, bcolz, click, multipledispatch, Mako, sqlalchemy, python-editor, alembic, sortedcontainers, intervaltree, lru-dict, empyrical, tables, zipline\n",
      "  Found existing installation: pytz 2014.10\n",
      "    Uninstalling pytz-2014.10:\n",
      "      Successfully uninstalled pytz-2014.10\n",
      "Successfully installed Cython-0.28.1 Logbook-1.3.2 Mako-1.0.7 alembic-0.9.9 bcolz-0.12.1 bottleneck-1.2.1 click-6.7 contextlib2-0.5.5 cyordereddict-1.0.0 empyrical-0.4.2 intervaltree-2.1.0 lru-dict-1.1.6 multipledispatch-0.5.0 networkx-1.11 numexpr-2.6.4 pandas-datareader-0.5.0 patsy-0.5.0 python-editor-1.0.3 pytz-2018.4 requests-file-1.4.3 requests-ftp-0.3.1 sortedcontainers-1.5.9 sqlalchemy-1.2.6 statsmodels-0.8.0 tables-3.4.2 zipline-1.2.0\n",
      "\u001b[33mYou are using pip version 9.0.1, however version 9.0.3 is available.\n",
      "You should consider upgrading via the 'pip install --upgrade pip' command.\u001b[0m\n"
     ]
    }
   ],
   "source": [
    "# Install a pip package in the current Jupyter kernel\n",
    "import sys\n",
    "!{sys.executable} -m pip install zipline"
   ]
  },
  {
   "cell_type": "code",
   "execution_count": 13,
   "metadata": {
    "collapsed": false
   },
   "outputs": [
    {
     "name": "stdout",
     "output_type": "stream",
     "text": [
      "[2018-04-12 21:20:53.477908] INFO: zipline.data.bundles.quandl: Downloading WIKI metadata.\n",
      "\u001b[?25lDownloading WIKI Prices table from Quandl  [####################################]  100%             \u001b[?25h\n",
      "[2018-04-12 21:22:07.086242] INFO: zipline.data.bundles.quandl: Parsing raw data.\n",
      "[2018-04-12 21:22:44.422313] INFO: zipline.data.bundles.quandl: Generating asset metadata.\n",
      "\u001b[?25lMerging daily equity files:  [-------------------------------#----]  1731/usr/local/lib/python3.5/dist-packages/zipline/data/us_equity_pricing.py:417: UserWarning: Ignoring 1 values because they are out of bounds for uint32:             open  high   low  close        volume  ex_dividend  split_ratio\n",
      "2011-04-11  1.79  1.84  1.55    1.7  6.674913e+09          0.0          1.0\n",
      "  winsorise_uint32(raw_data, invalid_data_behavior, 'volume', *OHLC)\n",
      "\u001b[?25lMerging daily equity files:  [####################################]      \u001b[?25h\n",
      "[2018-04-12 21:26:28.073603] INFO: zipline.data.bundles.quandl: Parsing split data.\n",
      "[2018-04-12 21:26:28.317144] INFO: zipline.data.bundles.quandl: Parsing dividend data.\n",
      "/usr/local/lib/python3.5/dist-packages/zipline/data/us_equity_pricing.py:931: FutureWarning: Conversion of the second argument of issubdtype from `float` to `np.floating` is deprecated. In future, it will be treated as `np.float64 == np.dtype(float).type`.\n",
      "  if not issubdtype(actual, expected):\n",
      "Usage: zipline run [OPTIONS]\n",
      "\n",
      "Error: Invalid value for \"-f\" / \"--algofile\": Could not open file: dual_moving_average.py: No such file or directory\n"
     ]
    }
   ],
   "source": [
    "!QUANDL_API_KEY=Cv1YB35-wWYx1hRy6gxb zipline ingest -b quandl"
   ]
  },
  {
   "cell_type": "code",
   "execution_count": 1,
   "metadata": {
    "collapsed": false
   },
   "outputs": [
    {
     "name": "stdout",
     "output_type": "stream",
     "text": [
      "[2018-04-12 21:37:44.126647] INFO: Loader: Cache at /root/.zipline/data/SPY_benchmark.csv does not have data from 1990-01-02 00:00:00+00:00 to 2018-04-12 00:00:00+00:00.\n",
      "\n",
      "[2018-04-12 21:37:44.127114] INFO: Loader: Downloading benchmark data for 'SPY' from 1989-12-29 00:00:00+00:00 to 2018-04-12 00:00:00+00:00\n",
      "[2018-04-12 21:37:44.482067] WARNING: Loader: Still don't have expected benchmark data for 'SPY' from 1989-12-29 00:00:00+00:00 to 2018-04-12 00:00:00+00:00 after redownload!\n",
      "[2018-04-12 21:37:44.482525] INFO: Loader: Cache at /root/.zipline/data/treasury_curves.csv does not have data from 1990-01-02 00:00:00+00:00 to 2018-04-12 00:00:00+00:00.\n",
      "\n",
      "[2018-04-12 21:37:44.482680] INFO: Loader: Downloading treasury data for 'SPY' from 1990-01-02 00:00:00+00:00 to 2018-04-12 00:00:00+00:00\n",
      "[2018-04-12 21:37:46.198519] WARNING: Loader: Still don't have expected treasury data for 'SPY' from 1990-01-02 00:00:00+00:00 to 2018-04-12 00:00:00+00:00 after redownload!\n",
      "[2018-04-12 21:37:52.139453] INFO: zipline.finance.metrics.tracker: Simulated 1007 trading days\n",
      "first open: 2014-01-02 14:31:00+00:00\n",
      "last close: 2017-12-29 21:00:00+00:00\n"
     ]
    }
   ],
   "source": [
    "!zipline run -f my_apple.py --start 2014-1-1 --end 2018-1-1 -o dma.pickle"
   ]
  },
  {
   "cell_type": "code",
   "execution_count": 4,
   "metadata": {
    "collapsed": false
   },
   "outputs": [
    {
     "data": {
      "text/html": [
       "<div>\n",
       "<table border=\"1\" class=\"dataframe\">\n",
       "  <thead>\n",
       "    <tr style=\"text-align: right;\">\n",
       "      <th></th>\n",
       "      <th>AAPL</th>\n",
       "      <th>algo_volatility</th>\n",
       "      <th>algorithm_period_return</th>\n",
       "      <th>alpha</th>\n",
       "      <th>benchmark_period_return</th>\n",
       "      <th>benchmark_volatility</th>\n",
       "      <th>beta</th>\n",
       "      <th>capital_used</th>\n",
       "      <th>ending_cash</th>\n",
       "      <th>ending_exposure</th>\n",
       "      <th>...</th>\n",
       "      <th>short_mavg</th>\n",
       "      <th>short_value</th>\n",
       "      <th>shorts_count</th>\n",
       "      <th>sortino</th>\n",
       "      <th>starting_cash</th>\n",
       "      <th>starting_exposure</th>\n",
       "      <th>starting_value</th>\n",
       "      <th>trading_days</th>\n",
       "      <th>transactions</th>\n",
       "      <th>treasury_period_return</th>\n",
       "    </tr>\n",
       "  </thead>\n",
       "  <tbody>\n",
       "    <tr>\n",
       "      <th>2014-01-02 21:00:00+00:00</th>\n",
       "      <td>NaN</td>\n",
       "      <td>NaN</td>\n",
       "      <td>0.0</td>\n",
       "      <td>NaN</td>\n",
       "      <td>-0.009584</td>\n",
       "      <td>NaN</td>\n",
       "      <td>NaN</td>\n",
       "      <td>0.0</td>\n",
       "      <td>10000000.0</td>\n",
       "      <td>0.0</td>\n",
       "      <td>...</td>\n",
       "      <td>NaN</td>\n",
       "      <td>0.0</td>\n",
       "      <td>0</td>\n",
       "      <td>NaN</td>\n",
       "      <td>10000000.0</td>\n",
       "      <td>0.0</td>\n",
       "      <td>0.0</td>\n",
       "      <td>1</td>\n",
       "      <td>[]</td>\n",
       "      <td>0.0</td>\n",
       "    </tr>\n",
       "    <tr>\n",
       "      <th>2014-01-03 21:00:00+00:00</th>\n",
       "      <td>NaN</td>\n",
       "      <td>0.0</td>\n",
       "      <td>0.0</td>\n",
       "      <td>0.0</td>\n",
       "      <td>-0.009773</td>\n",
       "      <td>0.105426</td>\n",
       "      <td>0.0</td>\n",
       "      <td>0.0</td>\n",
       "      <td>10000000.0</td>\n",
       "      <td>0.0</td>\n",
       "      <td>...</td>\n",
       "      <td>NaN</td>\n",
       "      <td>0.0</td>\n",
       "      <td>0</td>\n",
       "      <td>NaN</td>\n",
       "      <td>10000000.0</td>\n",
       "      <td>0.0</td>\n",
       "      <td>0.0</td>\n",
       "      <td>2</td>\n",
       "      <td>[]</td>\n",
       "      <td>0.0</td>\n",
       "    </tr>\n",
       "    <tr>\n",
       "      <th>2014-01-06 21:00:00+00:00</th>\n",
       "      <td>NaN</td>\n",
       "      <td>0.0</td>\n",
       "      <td>0.0</td>\n",
       "      <td>0.0</td>\n",
       "      <td>-0.012616</td>\n",
       "      <td>0.076805</td>\n",
       "      <td>0.0</td>\n",
       "      <td>0.0</td>\n",
       "      <td>10000000.0</td>\n",
       "      <td>0.0</td>\n",
       "      <td>...</td>\n",
       "      <td>NaN</td>\n",
       "      <td>0.0</td>\n",
       "      <td>0</td>\n",
       "      <td>NaN</td>\n",
       "      <td>10000000.0</td>\n",
       "      <td>0.0</td>\n",
       "      <td>0.0</td>\n",
       "      <td>3</td>\n",
       "      <td>[]</td>\n",
       "      <td>0.0</td>\n",
       "    </tr>\n",
       "    <tr>\n",
       "      <th>2014-01-07 21:00:00+00:00</th>\n",
       "      <td>NaN</td>\n",
       "      <td>0.0</td>\n",
       "      <td>0.0</td>\n",
       "      <td>0.0</td>\n",
       "      <td>-0.006552</td>\n",
       "      <td>0.103395</td>\n",
       "      <td>0.0</td>\n",
       "      <td>0.0</td>\n",
       "      <td>10000000.0</td>\n",
       "      <td>0.0</td>\n",
       "      <td>...</td>\n",
       "      <td>NaN</td>\n",
       "      <td>0.0</td>\n",
       "      <td>0</td>\n",
       "      <td>NaN</td>\n",
       "      <td>10000000.0</td>\n",
       "      <td>0.0</td>\n",
       "      <td>0.0</td>\n",
       "      <td>4</td>\n",
       "      <td>[]</td>\n",
       "      <td>0.0</td>\n",
       "    </tr>\n",
       "    <tr>\n",
       "      <th>2014-01-08 21:00:00+00:00</th>\n",
       "      <td>NaN</td>\n",
       "      <td>0.0</td>\n",
       "      <td>0.0</td>\n",
       "      <td>0.0</td>\n",
       "      <td>-0.006335</td>\n",
       "      <td>0.090494</td>\n",
       "      <td>0.0</td>\n",
       "      <td>0.0</td>\n",
       "      <td>10000000.0</td>\n",
       "      <td>0.0</td>\n",
       "      <td>...</td>\n",
       "      <td>NaN</td>\n",
       "      <td>0.0</td>\n",
       "      <td>0</td>\n",
       "      <td>NaN</td>\n",
       "      <td>10000000.0</td>\n",
       "      <td>0.0</td>\n",
       "      <td>0.0</td>\n",
       "      <td>5</td>\n",
       "      <td>[]</td>\n",
       "      <td>0.0</td>\n",
       "    </tr>\n",
       "  </tbody>\n",
       "</table>\n",
       "<p>5 rows × 40 columns</p>\n",
       "</div>"
      ],
      "text/plain": [
       "                           AAPL  algo_volatility  algorithm_period_return  \\\n",
       "2014-01-02 21:00:00+00:00   NaN              NaN                      0.0   \n",
       "2014-01-03 21:00:00+00:00   NaN              0.0                      0.0   \n",
       "2014-01-06 21:00:00+00:00   NaN              0.0                      0.0   \n",
       "2014-01-07 21:00:00+00:00   NaN              0.0                      0.0   \n",
       "2014-01-08 21:00:00+00:00   NaN              0.0                      0.0   \n",
       "\n",
       "                           alpha  benchmark_period_return  \\\n",
       "2014-01-02 21:00:00+00:00    NaN                -0.009584   \n",
       "2014-01-03 21:00:00+00:00    0.0                -0.009773   \n",
       "2014-01-06 21:00:00+00:00    0.0                -0.012616   \n",
       "2014-01-07 21:00:00+00:00    0.0                -0.006552   \n",
       "2014-01-08 21:00:00+00:00    0.0                -0.006335   \n",
       "\n",
       "                           benchmark_volatility  beta  capital_used  \\\n",
       "2014-01-02 21:00:00+00:00                   NaN   NaN           0.0   \n",
       "2014-01-03 21:00:00+00:00              0.105426   0.0           0.0   \n",
       "2014-01-06 21:00:00+00:00              0.076805   0.0           0.0   \n",
       "2014-01-07 21:00:00+00:00              0.103395   0.0           0.0   \n",
       "2014-01-08 21:00:00+00:00              0.090494   0.0           0.0   \n",
       "\n",
       "                           ending_cash  ending_exposure  \\\n",
       "2014-01-02 21:00:00+00:00   10000000.0              0.0   \n",
       "2014-01-03 21:00:00+00:00   10000000.0              0.0   \n",
       "2014-01-06 21:00:00+00:00   10000000.0              0.0   \n",
       "2014-01-07 21:00:00+00:00   10000000.0              0.0   \n",
       "2014-01-08 21:00:00+00:00   10000000.0              0.0   \n",
       "\n",
       "                                    ...            short_mavg  short_value  \\\n",
       "2014-01-02 21:00:00+00:00           ...                   NaN          0.0   \n",
       "2014-01-03 21:00:00+00:00           ...                   NaN          0.0   \n",
       "2014-01-06 21:00:00+00:00           ...                   NaN          0.0   \n",
       "2014-01-07 21:00:00+00:00           ...                   NaN          0.0   \n",
       "2014-01-08 21:00:00+00:00           ...                   NaN          0.0   \n",
       "\n",
       "                           shorts_count  sortino  starting_cash  \\\n",
       "2014-01-02 21:00:00+00:00             0      NaN     10000000.0   \n",
       "2014-01-03 21:00:00+00:00             0      NaN     10000000.0   \n",
       "2014-01-06 21:00:00+00:00             0      NaN     10000000.0   \n",
       "2014-01-07 21:00:00+00:00             0      NaN     10000000.0   \n",
       "2014-01-08 21:00:00+00:00             0      NaN     10000000.0   \n",
       "\n",
       "                           starting_exposure  starting_value  trading_days  \\\n",
       "2014-01-02 21:00:00+00:00                0.0             0.0             1   \n",
       "2014-01-03 21:00:00+00:00                0.0             0.0             2   \n",
       "2014-01-06 21:00:00+00:00                0.0             0.0             3   \n",
       "2014-01-07 21:00:00+00:00                0.0             0.0             4   \n",
       "2014-01-08 21:00:00+00:00                0.0             0.0             5   \n",
       "\n",
       "                           transactions  treasury_period_return  \n",
       "2014-01-02 21:00:00+00:00            []                     0.0  \n",
       "2014-01-03 21:00:00+00:00            []                     0.0  \n",
       "2014-01-06 21:00:00+00:00            []                     0.0  \n",
       "2014-01-07 21:00:00+00:00            []                     0.0  \n",
       "2014-01-08 21:00:00+00:00            []                     0.0  \n",
       "\n",
       "[5 rows x 40 columns]"
      ]
     },
     "execution_count": 4,
     "metadata": {},
     "output_type": "execute_result"
    }
   ],
   "source": [
    "import pandas as pd\n",
    "perf = pd.read_pickle('dma.pickle') # read in perf DataFrame\n",
    "perf.head()"
   ]
  },
  {
   "cell_type": "code",
   "execution_count": 5,
   "metadata": {
    "collapsed": false
   },
   "outputs": [
    {
     "name": "stderr",
     "output_type": "stream",
     "text": [
      "/usr/lib/python3/dist-packages/matplotlib/font_manager.py:273: UserWarning: Matplotlib is building the font cache using fc-list. This may take a moment.\n",
      "  warnings.warn('Matplotlib is building the font cache using fc-list. This may take a moment.')\n",
      "/usr/lib/python3/dist-packages/matplotlib/font_manager.py:273: UserWarning: Matplotlib is building the font cache using fc-list. This may take a moment.\n",
      "  warnings.warn('Matplotlib is building the font cache using fc-list. This may take a moment.')\n"
     ]
    },
    {
     "name": "stdout",
     "output_type": "stream",
     "text": [
      "Populating the interactive namespace from numpy and matplotlib\n"
     ]
    },
    {
     "data": {
      "text/plain": [
       "<matplotlib.text.Text at 0x7f393e26deb8>"
      ]
     },
     "execution_count": 5,
     "metadata": {},
     "output_type": "execute_result"
    },
    {
     "data": {
      "image/png": "[encoded data removed]",
      "text/plain": [
       "<matplotlib.figure.Figure at 0x7f393ed21898>"
      ]
     },
     "metadata": {},
     "output_type": "display_data"
    }
   ],
   "source": [
    "%pylab inline\n",
    "figsize(12, 12)\n",
    "import matplotlib.pyplot as plt\n",
    "\n",
    "ax1 = plt.subplot(211)\n",
    "perf.portfolio_value.plot(ax=ax1)\n",
    "ax1.set_ylabel('Portfolio Value')\n",
    "ax2 = plt.subplot(212, sharex=ax1)\n",
    "perf.AAPL.plot(ax=ax2)\n",
    "ax2.set_ylabel('AAPL Stock Price')"
   ]
  },
  {
   "cell_type": "code",
   "execution_count": 2,
   "metadata": {
    "collapsed": true
   },
   "outputs": [],
   "source": [
    "import utils_v2"
   ]
  },
  {
   "cell_type": "code",
   "execution_count": 3,
   "metadata": {
    "collapsed": false
   },
   "outputs": [
    {
     "name": "stdout",
     "output_type": "stream",
     "text": [
      "string price: 1.283147938809921\n",
      "string price: 5.936112306027493\n",
      "string price: 1.0028406720711422\n",
      "string price: 1.0028406720711422\n",
      "string price: 2.443739905811245\n",
      "string price: 2.443739905811245\n",
      "string price: 2.0010474914423724\n"
     ]
    },
    {
     "ename": "KeyboardInterrupt",
     "evalue": "",
     "output_type": "error",
     "traceback": [
      "\u001b[0;31m---------------------------------------------------------------------------\u001b[0m",
      "\u001b[0;31mKeyboardInterrupt\u001b[0m                         Traceback (most recent call last)",
      "\u001b[0;32m<ipython-input-3-221c4820d420>\u001b[0m in \u001b[0;36m<module>\u001b[0;34m()\u001b[0m\n\u001b[1;32m      1\u001b[0m \u001b[0mpickle_path\u001b[0m \u001b[0;34m=\u001b[0m \u001b[0;34m'tf_idf_full_1_best_estimator_.pkl'\u001b[0m\u001b[0;34m\u001b[0m\u001b[0m\n\u001b[0;32m----> 2\u001b[0;31m \u001b[0mdataset\u001b[0m \u001b[0;34m=\u001b[0m \u001b[0mutils_v2\u001b[0m\u001b[0;34m.\u001b[0m\u001b[0mread_dataset_dictionary\u001b[0m\u001b[0;34m(\u001b[0m\u001b[0mlabel_horizon\u001b[0m\u001b[0;34m=\u001b[0m\u001b[0;36m1\u001b[0m\u001b[0;34m,\u001b[0m \u001b[0msubset\u001b[0m\u001b[0;34m=\u001b[0m\u001b[0;34m'full'\u001b[0m\u001b[0;34m,\u001b[0m \u001b[0mmomentum_only\u001b[0m\u001b[0;34m=\u001b[0m\u001b[0;32mFalse\u001b[0m\u001b[0;34m,\u001b[0m \u001b[0mdoc2vec\u001b[0m\u001b[0;34m=\u001b[0m\u001b[0;32mFalse\u001b[0m\u001b[0;34m,\u001b[0m \u001b[0mtesting\u001b[0m\u001b[0;34m=\u001b[0m\u001b[0;32mTrue\u001b[0m\u001b[0;34m)\u001b[0m\u001b[0;34m\u001b[0m\u001b[0m\n\u001b[0m\u001b[1;32m      3\u001b[0m \u001b[0;32mwith\u001b[0m \u001b[0mopen\u001b[0m\u001b[0;34m(\u001b[0m\u001b[0mpickle_path\u001b[0m\u001b[0;34m,\u001b[0m \u001b[0;34m'rb'\u001b[0m\u001b[0;34m)\u001b[0m \u001b[0;32mas\u001b[0m \u001b[0mp\u001b[0m\u001b[0;34m:\u001b[0m\u001b[0;34m\u001b[0m\u001b[0m\n\u001b[1;32m      4\u001b[0m     \u001b[0mbest_estimator\u001b[0m \u001b[0;34m=\u001b[0m \u001b[0mpickle\u001b[0m\u001b[0;34m.\u001b[0m\u001b[0mload\u001b[0m\u001b[0;34m(\u001b[0m\u001b[0mp\u001b[0m\u001b[0;34m)\u001b[0m\u001b[0;34m\u001b[0m\u001b[0m\n\u001b[1;32m      5\u001b[0m     \u001b[0mresult\u001b[0m \u001b[0;34m=\u001b[0m \u001b[0mbest_estimator\u001b[0m\u001b[0;34m.\u001b[0m\u001b[0mscore\u001b[0m\u001b[0;34m(\u001b[0m\u001b[0mdataset\u001b[0m\u001b[0;34m[\u001b[0m\u001b[0;34m'X'\u001b[0m\u001b[0;34m]\u001b[0m\u001b[0;34m,\u001b[0m \u001b[0mdataset\u001b[0m\u001b[0;34m[\u001b[0m\u001b[0;34m'labels'\u001b[0m\u001b[0;34m]\u001b[0m\u001b[0;34m)\u001b[0m\u001b[0;34m\u001b[0m\u001b[0m\n",
      "\u001b[0;32m/home/ubuntu/notebooks/text-analytics-for-accountancy/doc2vec/utils_v2.py\u001b[0m in \u001b[0;36mread_dataset_dictionary\u001b[0;34m(label_horizon, subset, momentum_only, doc2vec, doctag_only, testing)\u001b[0m\n\u001b[1;32m    383\u001b[0m \u001b[0;34m\u001b[0m\u001b[0m\n\u001b[1;32m    384\u001b[0m     \u001b[0mX\u001b[0m \u001b[0;34m=\u001b[0m \u001b[0;34m[\u001b[0m\u001b[0;34m]\u001b[0m\u001b[0;34m\u001b[0m\u001b[0m\n\u001b[0;32m--> 385\u001b[0;31m     \u001b[0;32mfor\u001b[0m \u001b[0mi\u001b[0m\u001b[0;34m,\u001b[0m \u001b[0mt\u001b[0m \u001b[0;32min\u001b[0m \u001b[0menumerate\u001b[0m\u001b[0;34m(\u001b[0m\u001b[0mtext\u001b[0m\u001b[0;34m)\u001b[0m\u001b[0;34m:\u001b[0m\u001b[0;34m\u001b[0m\u001b[0m\n\u001b[0m\u001b[1;32m    386\u001b[0m         \u001b[0mprice_hist\u001b[0m \u001b[0;34m=\u001b[0m \u001b[0mnp\u001b[0m\u001b[0;34m.\u001b[0m\u001b[0marray\u001b[0m\u001b[0;34m(\u001b[0m\u001b[0mnext\u001b[0m\u001b[0;34m(\u001b[0m\u001b[0mprices\u001b[0m\u001b[0;34m)\u001b[0m\u001b[0;34m)\u001b[0m\u001b[0;34m\u001b[0m\u001b[0m\n\u001b[1;32m    387\u001b[0m         \u001b[0;32mif\u001b[0m \u001b[0mmomentum_only\u001b[0m\u001b[0;34m:\u001b[0m\u001b[0;34m\u001b[0m\u001b[0m\n",
      "\u001b[0;32m/home/ubuntu/notebooks/text-analytics-for-accountancy/doc2vec/utils_v2.py\u001b[0m in \u001b[0;36m<genexpr>\u001b[0;34m(.0)\u001b[0m\n\u001b[1;32m    321\u001b[0m \u001b[0;32mdef\u001b[0m \u001b[0msplit_gen_3\u001b[0m\u001b[0;34m(\u001b[0m\u001b[0mgen\u001b[0m\u001b[0;34m)\u001b[0m\u001b[0;34m:\u001b[0m\u001b[0;34m\u001b[0m\u001b[0m\n\u001b[1;32m    322\u001b[0m     \u001b[0mgen_a\u001b[0m\u001b[0;34m,\u001b[0m \u001b[0mgen_b\u001b[0m\u001b[0;34m,\u001b[0m \u001b[0mgen_c\u001b[0m \u001b[0;34m=\u001b[0m \u001b[0mtee\u001b[0m\u001b[0;34m(\u001b[0m\u001b[0mgen\u001b[0m\u001b[0;34m,\u001b[0m \u001b[0;36m3\u001b[0m\u001b[0;34m)\u001b[0m\u001b[0;34m\u001b[0m\u001b[0m\n\u001b[0;32m--> 323\u001b[0;31m     \u001b[0;32mreturn\u001b[0m \u001b[0;34m(\u001b[0m\u001b[0ma\u001b[0m \u001b[0;32mfor\u001b[0m \u001b[0ma\u001b[0m\u001b[0;34m,\u001b[0m \u001b[0mb\u001b[0m\u001b[0;34m,\u001b[0m \u001b[0mc\u001b[0m \u001b[0;32min\u001b[0m \u001b[0mgen_a\u001b[0m\u001b[0;34m)\u001b[0m\u001b[0;34m,\u001b[0m \u001b[0;34m(\u001b[0m\u001b[0mb\u001b[0m \u001b[0;32mfor\u001b[0m \u001b[0ma\u001b[0m\u001b[0;34m,\u001b[0m \u001b[0mb\u001b[0m\u001b[0;34m,\u001b[0m \u001b[0mc\u001b[0m \u001b[0;32min\u001b[0m \u001b[0mgen_b\u001b[0m\u001b[0;34m)\u001b[0m\u001b[0;34m,\u001b[0m \u001b[0;34m(\u001b[0m\u001b[0mc\u001b[0m \u001b[0;32mfor\u001b[0m \u001b[0ma\u001b[0m\u001b[0;34m,\u001b[0m \u001b[0mb\u001b[0m\u001b[0;34m,\u001b[0m \u001b[0mc\u001b[0m \u001b[0;32min\u001b[0m \u001b[0mgen_c\u001b[0m\u001b[0;34m)\u001b[0m\u001b[0;34m\u001b[0m\u001b[0m\n\u001b[0m\u001b[1;32m    324\u001b[0m \u001b[0;34m\u001b[0m\u001b[0m\n\u001b[1;32m    325\u001b[0m \u001b[0;32mdef\u001b[0m \u001b[0msplit_gen_5\u001b[0m\u001b[0;34m(\u001b[0m\u001b[0mgen\u001b[0m\u001b[0;34m)\u001b[0m\u001b[0;34m:\u001b[0m\u001b[0;34m\u001b[0m\u001b[0m\n",
      "\u001b[0;32m/home/ubuntu/notebooks/text-analytics-for-accountancy/doc2vec/utils_v2.py\u001b[0m in \u001b[0;36mread_dataset\u001b[0;34m(label_horizon, subset, doc2vec, momentum_only, testing)\u001b[0m\n\u001b[1;32m    373\u001b[0m             \u001b[0;32melse\u001b[0m\u001b[0;34m:\u001b[0m\u001b[0;34m\u001b[0m\u001b[0m\n\u001b[1;32m    374\u001b[0m                 \u001b[0;32mwith\u001b[0m \u001b[0mopen\u001b[0m\u001b[0;34m(\u001b[0m\u001b[0mpath\u001b[0m\u001b[0;34m,\u001b[0m \u001b[0;34m'r'\u001b[0m\u001b[0;34m)\u001b[0m \u001b[0;32mas\u001b[0m \u001b[0mt\u001b[0m\u001b[0;34m:\u001b[0m\u001b[0;34m\u001b[0m\u001b[0m\n\u001b[0;32m--> 375\u001b[0;31m                     \u001b[0mlinguistic\u001b[0m \u001b[0;34m=\u001b[0m \u001b[0mt\u001b[0m\u001b[0;34m.\u001b[0m\u001b[0mread\u001b[0m\u001b[0;34m(\u001b[0m\u001b[0;34m)\u001b[0m\u001b[0;34m\u001b[0m\u001b[0m\n\u001b[0m\u001b[1;32m    376\u001b[0m             \u001b[0mprices_arr\u001b[0m \u001b[0;34m=\u001b[0m \u001b[0mnp\u001b[0m\u001b[0;34m.\u001b[0m\u001b[0marray\u001b[0m\u001b[0;34m(\u001b[0m\u001b[0;34m[\u001b[0m\u001b[0mfloat\u001b[0m\u001b[0;34m(\u001b[0m\u001b[0mp\u001b[0m\u001b[0;34m)\u001b[0m \u001b[0;32mfor\u001b[0m \u001b[0mp\u001b[0m \u001b[0;32min\u001b[0m \u001b[0mprices\u001b[0m\u001b[0;34m]\u001b[0m\u001b[0;34m)\u001b[0m\u001b[0;34m\u001b[0m\u001b[0m\n\u001b[1;32m    377\u001b[0m             \u001b[0mlabel\u001b[0m \u001b[0;34m=\u001b[0m \u001b[0mbin_alpha\u001b[0m\u001b[0;34m(\u001b[0m\u001b[0mfloat\u001b[0m\u001b[0;34m(\u001b[0m\u001b[0mlabels\u001b[0m\u001b[0;34m[\u001b[0m\u001b[0mlabel_horizon\u001b[0m\u001b[0;34m]\u001b[0m\u001b[0;34m)\u001b[0m\u001b[0;34m)\u001b[0m\u001b[0;34m\u001b[0m\u001b[0m\n",
      "\u001b[0;32m/usr/lib/python3.5/codecs.py\u001b[0m in \u001b[0;36mdecode\u001b[0;34m(self, input, final)\u001b[0m\n\u001b[1;32m    319\u001b[0m         \u001b[0;31m# decode input (taking the buffer into account)\u001b[0m\u001b[0;34m\u001b[0m\u001b[0;34m\u001b[0m\u001b[0m\n\u001b[1;32m    320\u001b[0m         \u001b[0mdata\u001b[0m \u001b[0;34m=\u001b[0m \u001b[0mself\u001b[0m\u001b[0;34m.\u001b[0m\u001b[0mbuffer\u001b[0m \u001b[0;34m+\u001b[0m \u001b[0minput\u001b[0m\u001b[0;34m\u001b[0m\u001b[0m\n\u001b[0;32m--> 321\u001b[0;31m         \u001b[0;34m(\u001b[0m\u001b[0mresult\u001b[0m\u001b[0;34m,\u001b[0m \u001b[0mconsumed\u001b[0m\u001b[0;34m)\u001b[0m \u001b[0;34m=\u001b[0m \u001b[0mself\u001b[0m\u001b[0;34m.\u001b[0m\u001b[0m_buffer_decode\u001b[0m\u001b[0;34m(\u001b[0m\u001b[0mdata\u001b[0m\u001b[0;34m,\u001b[0m \u001b[0mself\u001b[0m\u001b[0;34m.\u001b[0m\u001b[0merrors\u001b[0m\u001b[0;34m,\u001b[0m \u001b[0mfinal\u001b[0m\u001b[0;34m)\u001b[0m\u001b[0;34m\u001b[0m\u001b[0m\n\u001b[0m\u001b[1;32m    322\u001b[0m         \u001b[0;31m# keep undecoded input until the next call\u001b[0m\u001b[0;34m\u001b[0m\u001b[0;34m\u001b[0m\u001b[0m\n\u001b[1;32m    323\u001b[0m         \u001b[0mself\u001b[0m\u001b[0;34m.\u001b[0m\u001b[0mbuffer\u001b[0m \u001b[0;34m=\u001b[0m \u001b[0mdata\u001b[0m\u001b[0;34m[\u001b[0m\u001b[0mconsumed\u001b[0m\u001b[0;34m:\u001b[0m\u001b[0;34m]\u001b[0m\u001b[0;34m\u001b[0m\u001b[0m\n",
      "\u001b[0;31mKeyboardInterrupt\u001b[0m: "
     ]
    }
   ],
   "source": [
    "pickle_path = 'tf_idf_full_1_best_estimator_.pkl'\n",
    "dataset = utils_v2.read_dataset_dictionary(label_horizon=1, subset='full', momentum_only=False, doc2vec=False, testing=True)\n",
    "with open(pickle_path, 'rb') as p:   \n",
    "    best_estimator = pickle.load(p)\n",
    "    result = best_estimator.score(dataset['X'], dataset['labels'])\n",
    "    print(pickle_path)\n",
    "    print(result)\n",
    "    with open('eval_results.txt', 'a+') as t:\n",
    "        t.write(pickle_path)\n",
    "        t.write(str(result))"
   ]
  }
 ],
 "metadata": {
  "kernelspec": {
   "display_name": "Python 3",
   "language": "python",
   "name": "python3"
  },
  "language_info": {
   "codemirror_mode": {
    "name": "ipython",
    "version": 3
   },
   "file_extension": ".py",
   "mimetype": "text/x-python",
   "name": "python",
   "nbconvert_exporter": "python",
   "pygments_lexer": "ipython3",
   "version": "3.5.2"
  }
 },
 "nbformat": 4,
 "nbformat_minor": 0
}
