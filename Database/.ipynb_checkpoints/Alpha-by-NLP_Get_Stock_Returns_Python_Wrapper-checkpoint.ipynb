{
 "cells": [
  {
   "cell_type": "markdown",
   "metadata": {},
   "source": [
    "## Alpha by NLP: Getting stock returns from SQLite3 database using Python wrapper function"
   ]
  },
  {
   "cell_type": "markdown",
   "metadata": {},
   "source": [
    "Let's create a connection and cursor to our SQLite3 database. We can call `cursor.execute()` to perform SQL commands."
   ]
  },
  {
   "cell_type": "code",
   "execution_count": 59,
   "metadata": {
    "collapsed": false
   },
   "outputs": [
    {
     "name": "stdout",
     "output_type": "stream",
     "text": [
      "[['2017-06-02', 'AAPL', 0.0148191937834, 0.0112729848091], ['2017-06-05', 'AAPL', -0.00977808960652, -0.00899268524104], ['2017-06-06', 'AAPL', 0.00337818504286, 0.00678423926363], ['2017-06-07', 'AAPL', 0.00595660743198, 0.00398528213149], ['2017-06-08', 'AAPL', -0.00244571031878, -0.00297040786488], ['2017-06-09', 'AAPL', -0.038776752088, -0.0371596851367], ['2017-06-12', 'AAPL', -0.0238958121599, -0.0236769405265], ['2017-06-13', 'AAPL', 0.00804564720184, 0.00283575697594], ['2017-06-14', 'AAPL', -0.00975504494863, -0.00840446209595], ['2017-06-15', 'AAPL', -0.00599346222118, -0.00394318735999]]\n"
     ]
    }
   ],
   "source": [
    "import sqlite3\n",
    "conn = sqlite3.connect('stocks.db')\n",
    "c = conn.cursor()\n",
    "\n",
    "sql = \"SELECT * FROM stocks WHERE symbol='AAPL' and theDate > strftime('2017-06-01');\"\n",
    "\n",
    "results = []\n",
    "for row in c.execute(sql):\n",
    "    results.append([row[0],row[1],row[2],row[8]])\n",
    "\n",
    "print(results[:10])"
   ]
  },
  {
   "cell_type": "markdown",
   "metadata": {},
   "source": [
    "Now, let's do the same, but put the result in a Pandas dataframe. We will drop the five empty columns in our table."
   ]
  },
  {
   "cell_type": "code",
   "execution_count": 60,
   "metadata": {
    "collapsed": false
   },
   "outputs": [
    {
     "data": {
      "text/html": [
       "<div>\n",
       "<table border=\"1\" class=\"dataframe\">\n",
       "  <thead>\n",
       "    <tr style=\"text-align: right;\">\n",
       "      <th></th>\n",
       "      <th>theDate</th>\n",
       "      <th>symbol</th>\n",
       "      <th>return</th>\n",
       "      <th>alpha</th>\n",
       "    </tr>\n",
       "  </thead>\n",
       "  <tbody>\n",
       "    <tr>\n",
       "      <th>0</th>\n",
       "      <td>2017-06-02</td>\n",
       "      <td>AAPL</td>\n",
       "      <td>0.014819</td>\n",
       "      <td>0.011273</td>\n",
       "    </tr>\n",
       "    <tr>\n",
       "      <th>1</th>\n",
       "      <td>2017-06-05</td>\n",
       "      <td>AAPL</td>\n",
       "      <td>-0.009778</td>\n",
       "      <td>-0.008993</td>\n",
       "    </tr>\n",
       "    <tr>\n",
       "      <th>2</th>\n",
       "      <td>2017-06-06</td>\n",
       "      <td>AAPL</td>\n",
       "      <td>0.003378</td>\n",
       "      <td>0.006784</td>\n",
       "    </tr>\n",
       "    <tr>\n",
       "      <th>3</th>\n",
       "      <td>2017-06-07</td>\n",
       "      <td>AAPL</td>\n",
       "      <td>0.005957</td>\n",
       "      <td>0.003985</td>\n",
       "    </tr>\n",
       "    <tr>\n",
       "      <th>4</th>\n",
       "      <td>2017-06-08</td>\n",
       "      <td>AAPL</td>\n",
       "      <td>-0.002446</td>\n",
       "      <td>-0.002970</td>\n",
       "    </tr>\n",
       "    <tr>\n",
       "      <th>5</th>\n",
       "      <td>2017-06-09</td>\n",
       "      <td>AAPL</td>\n",
       "      <td>-0.038777</td>\n",
       "      <td>-0.037160</td>\n",
       "    </tr>\n",
       "    <tr>\n",
       "      <th>6</th>\n",
       "      <td>2017-06-12</td>\n",
       "      <td>AAPL</td>\n",
       "      <td>-0.023896</td>\n",
       "      <td>-0.023677</td>\n",
       "    </tr>\n",
       "    <tr>\n",
       "      <th>7</th>\n",
       "      <td>2017-06-13</td>\n",
       "      <td>AAPL</td>\n",
       "      <td>0.008046</td>\n",
       "      <td>0.002836</td>\n",
       "    </tr>\n",
       "    <tr>\n",
       "      <th>8</th>\n",
       "      <td>2017-06-14</td>\n",
       "      <td>AAPL</td>\n",
       "      <td>-0.009755</td>\n",
       "      <td>-0.008404</td>\n",
       "    </tr>\n",
       "    <tr>\n",
       "      <th>9</th>\n",
       "      <td>2017-06-15</td>\n",
       "      <td>AAPL</td>\n",
       "      <td>-0.005993</td>\n",
       "      <td>-0.003943</td>\n",
       "    </tr>\n",
       "  </tbody>\n",
       "</table>\n",
       "</div>"
      ],
      "text/plain": [
       "      theDate symbol    return     alpha\n",
       "0  2017-06-02   AAPL  0.014819  0.011273\n",
       "1  2017-06-05   AAPL -0.009778 -0.008993\n",
       "2  2017-06-06   AAPL  0.003378  0.006784\n",
       "3  2017-06-07   AAPL  0.005957  0.003985\n",
       "4  2017-06-08   AAPL -0.002446 -0.002970\n",
       "5  2017-06-09   AAPL -0.038777 -0.037160\n",
       "6  2017-06-12   AAPL -0.023896 -0.023677\n",
       "7  2017-06-13   AAPL  0.008046  0.002836\n",
       "8  2017-06-14   AAPL -0.009755 -0.008404\n",
       "9  2017-06-15   AAPL -0.005993 -0.003943"
      ]
     },
     "execution_count": 60,
     "metadata": {},
     "output_type": "execute_result"
    }
   ],
   "source": [
    "import pandas as pd\n",
    "\n",
    "df = pd.read_sql_query(sql, conn)\n",
    "\n",
    "df.drop('empty1', axis=1, inplace=True)\n",
    "df.drop('empty2', axis=1, inplace=True)\n",
    "df.drop('empty3', axis=1, inplace=True)\n",
    "df.drop('empty4', axis=1, inplace=True)\n",
    "df.drop('empty5', axis=1, inplace=True)\n",
    "\n",
    "conn.close()\n",
    "df[:10]"
   ]
  },
  {
   "cell_type": "markdown",
   "metadata": {},
   "source": [
    "### Defining the getRets( ) function\n",
    "Now we're ready to write our getRets function:  \n",
    "`getRets(symbol, date, horizon)`\n",
    "\n",
    "We have a SQLite3 database with schema  \n",
    "`   0       1       2       3       4       5       6       7       8`  \n",
    "`theDate symbol  return                                          alpha`\n",
    "\n",
    "`getRet()` returns a list like `[theDate, symbol, return, alpha]`:  \n",
    "`[('2017-06-01', 'AAPL', 0.00274939783809, -0.00572330324226),\n",
    " ('2017-06-02', 'AAPL', 0.0148191937834, 0.0112729848091),\n",
    " ('2017-06-05', 'AAPL', -0.00977808960652, -0.00899268524104),\n",
    " ('2017-06-06', 'AAPL', 0.00337818504286, 0.00678423926363),\n",
    " ('2017-06-07', 'AAPL', 0.00595660743198, 0.00398528213149),\n",
    " ('2017-06-08', 'AAPL', -0.00244571031878, -0.00297040786488),\n",
    " ('2017-06-09', 'AAPL', -0.038776752088, -0.0371596851367)]`"
   ]
  },
  {
   "cell_type": "code",
   "execution_count": 63,
   "metadata": {
    "collapsed": true
   },
   "outputs": [],
   "source": [
    "def getRets(symbol, date, horizon=1):\n",
    "    conn = sqlite3.connect('stocks.db')\n",
    "    c = conn.cursor()\n",
    "    \n",
    "    results = []\n",
    "    for row in c.execute(\"SELECT theDate, Symbol, Return, Alpha \\\n",
    "                         FROM stocks WHERE symbol=? \\\n",
    "                         AND theDate >= strftime(?) \\\n",
    "                         AND theDate < date(strftime(?), ?);\", \n",
    "                         [symbol, date, date, '+{} day'.format(horizon)]):\n",
    "        results.append(row)\n",
    "    return results"
   ]
  },
  {
   "cell_type": "code",
   "execution_count": 65,
   "metadata": {
    "collapsed": false
   },
   "outputs": [
    {
     "data": {
      "text/plain": [
       "[('2017-06-01', 'AAPL', 0.00274939783809, -0.00572330324226),\n",
       " ('2017-06-02', 'AAPL', 0.0148191937834, 0.0112729848091),\n",
       " ('2017-06-05', 'AAPL', -0.00977808960652, -0.00899268524104),\n",
       " ('2017-06-06', 'AAPL', 0.00337818504286, 0.00678423926363),\n",
       " ('2017-06-07', 'AAPL', 0.00595660743198, 0.00398528213149),\n",
       " ('2017-06-08', 'AAPL', -0.00244571031878, -0.00297040786488),\n",
       " ('2017-06-09', 'AAPL', -0.038776752088, -0.0371596851367),\n",
       " ('2017-06-01', 'AAPL', 0.00274939783809, -0.00572337451741),\n",
       " ('2017-06-02', 'AAPL', 0.0148191937834, 0.0112729549772),\n",
       " ('2017-06-05', 'AAPL', -0.00977808960652, -0.00899267863396),\n",
       " ('2017-06-06', 'AAPL', 0.00337818504286, 0.00678426791648),\n",
       " ('2017-06-07', 'AAPL', 0.00595660743198, 0.00398526554806),\n",
       " ('2017-06-08', 'AAPL', -0.00244571031878, -0.00297041227881),\n",
       " ('2017-06-09', 'AAPL', -0.038776752088, -0.0371596715334)]"
      ]
     },
     "execution_count": 65,
     "metadata": {},
     "output_type": "execute_result"
    }
   ],
   "source": [
    "getRets('AAPL', '2017-06-01', 10)"
   ]
  },
  {
   "cell_type": "code",
   "execution_count": 66,
   "metadata": {
    "collapsed": false
   },
   "outputs": [
    {
     "data": {
      "text/plain": [
       "[('2017-06-01', 'BBY', 0.015322445114, 0.00645739513555),\n",
       " ('2017-06-02', 'BBY', -0.010447777951, -0.0141582023143),\n",
       " ('2017-06-05', 'BBY', -0.00251379260981, -0.00169201798006),\n",
       " ('2017-06-06', 'BBY', -0.0166330813172, -0.0130693024024),\n",
       " ('2017-06-07', 'BBY', 0.0145225015295, 0.0124598890605),\n",
       " ('2017-06-08', 'BBY', -0.00454698544043, -0.00509598037693),\n",
       " ('2017-06-09', 'BBY', -0.0165792587281, -0.014887310584)]"
      ]
     },
     "execution_count": 66,
     "metadata": {},
     "output_type": "execute_result"
    }
   ],
   "source": [
    "getRets('BBY', '2017-06-01', 10)"
   ]
  },
  {
   "cell_type": "code",
   "execution_count": 67,
   "metadata": {
    "collapsed": false
   },
   "outputs": [
    {
     "data": {
      "text/plain": [
       "[('2017-06-01', 'MSFT', 0.00372282381001, -0.00446468904614),\n",
       " ('2017-06-02', 'MSFT', 0.0236805142277, 0.0202536690515),\n",
       " ('2017-06-05', 'MSFT', 0.00724633480361, 0.00800530270811),\n",
       " ('2017-06-06', 'MSFT', 0.00332039296237, 0.00661180060898),\n",
       " ('2017-06-07', 'MSFT', -0.00179258143102, -0.0036975525568),\n",
       " ('2017-06-08', 'MSFT', -0.00607821530706, -0.00658525168888),\n",
       " ('2017-06-09', 'MSFT', -0.0226545805137, -0.0210919433734),\n",
       " ('2017-06-01', 'MSFT', 0.00372282381001, -0.00446466835984),\n",
       " ('2017-06-02', 'MSFT', 0.0236805142277, 0.0202536777096),\n",
       " ('2017-06-05', 'MSFT', 0.00724633480361, 0.00800530079052),\n",
       " ('2017-06-06', 'MSFT', 0.00332039296237, 0.00661179229302),\n",
       " ('2017-06-07', 'MSFT', -0.00179258143102, -0.00369754774377),\n",
       " ('2017-06-08', 'MSFT', -0.00607821530706, -0.00658525040782),\n",
       " ('2017-06-09', 'MSFT', -0.0226545805137, -0.0210919473215)]"
      ]
     },
     "execution_count": 67,
     "metadata": {},
     "output_type": "execute_result"
    }
   ],
   "source": [
    "getRets('MSFT', '2017-06-01', 10)"
   ]
  },
  {
   "cell_type": "code",
   "execution_count": null,
   "metadata": {
    "collapsed": true
   },
   "outputs": [],
   "source": []
  }
 ],
 "metadata": {
  "kernelspec": {
   "display_name": "Python 3",
   "language": "python",
   "name": "python3"
  },
  "language_info": {
   "codemirror_mode": {
    "name": "ipython",
    "version": 3
   },
   "file_extension": ".py",
   "mimetype": "text/x-python",
   "name": "python",
   "nbconvert_exporter": "python",
   "pygments_lexer": "ipython3",
   "version": "3.6.0"
  }
 },
 "nbformat": 4,
 "nbformat_minor": 2
}
